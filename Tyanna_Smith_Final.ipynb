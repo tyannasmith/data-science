{
  "cells": [
    {
      "cell_type": "markdown",
      "metadata": {
        "id": "view-in-github",
        "colab_type": "text"
      },
      "source": [
        "<a href=\"https://colab.research.google.com/github/tyannasmith/data-science/blob/main/Tyanna_Smith_Final.ipynb\" target=\"_parent\"><img src=\"https://colab.research.google.com/assets/colab-badge.svg\" alt=\"Open In Colab\"/></a>"
      ]
    },
    {
      "cell_type": "markdown",
      "source": [
        "# STA 2023 Final Project\n",
        "## Directions:\n",
        "\n",
        "1) Replace the image dataset in the google slides with your own data.\n",
        "\n",
        "2) Comment and explain all code to the best of your ability.\n",
        "\n",
        "3) Run your model 3 times. \n",
        "\n",
        "4) Report best, worst, and average of the three runs. \n",
        "\n",
        "\n",
        "\n",
        "\n",
        "Use any and all resources available to you.\n",
        "\n",
        "Comment and explain the code.\n",
        "\n",
        "Answer the questions to the best of your abilities.\n",
        "\n",
        "If you have any questions, txt 561-479-8123\n",
        "\n",
        "Save this notebook to your GitHub and submit the link on Canvas\n"
      ],
      "metadata": {
        "id": "vU-T5aoAhMBC"
      }
    },
    {
      "cell_type": "code",
      "execution_count": 1,
      "metadata": {
        "id": "MJjTOJXQY7L2"
      },
      "outputs": [],
      "source": [
        "%%capture\n",
        "!pip install wandb\n",
        "!apt-get install poppler-utils\n",
        "!pip install pdf2image\n",
        "!pip install flashtorch\n",
        "import requests\n",
        "from pdf2image import convert_from_path\n",
        "import matplotlib.pyplot as plt\n",
        "import numpy as np\n",
        "import torch\n",
        "import requests\n",
        "from torchvision import *\n",
        "from torchvision.models import *\n",
        "from flashtorch.utils import apply_transforms\n",
        "import wandb as wb"
      ]
    },
    {
      "cell_type": "markdown",
      "source": [
        "#First I had to gather 25 pics of shoes that are tied and shoes that are untied and then I put them in a google slide show. "
      ],
      "metadata": {
        "id": "_zLb4EeyhPXx"
      }
    },
    {
      "cell_type": "code",
      "execution_count": 2,
      "metadata": {
        "id": "OcM-MSMRmAXL"
      },
      "outputs": [],
      "source": [
        "def GPU(data):\n",
        "    return torch.tensor(data, requires_grad=True, dtype=torch.float, device=torch.device('cuda'))\n",
        "\n",
        "def GPU_data(data):\n",
        "    return torch.tensor(data, requires_grad=False, dtype=torch.float, device=torch.device('cuda'))\n",
        "\n",
        "def plot(x):\n",
        "    fig, ax = plt.subplots()\n",
        "    im = ax.imshow(x, cmap = 'gray')\n",
        "    ax.axis('off')\n",
        "    fig.set_size_inches(5, 5)\n",
        "    plt.show()\n",
        "    \n",
        "def get_google_slide(url):\n",
        "    url_head = \"https://docs.google.com/presentation/d/\"\n",
        "    url_body = url.split('/')[5]\n",
        "    page_id = url.split('.')[-1]\n",
        "    return url_head + url_body + \"/export/pdf?id=\" + url_body + \"&pageid=\" + page_id\n",
        "\n",
        "def get_slides(url):\n",
        "    url = get_google_slide(url)\n",
        "    r = requests.get(url, allow_redirects=True)\n",
        "    open('file.pdf', 'wb').write(r.content)\n",
        "    images = convert_from_path('file.pdf', 500)\n",
        "    return images\n",
        "\n",
        "def load(image):\n",
        "\n",
        "    return apply_transforms(image).clone().detach().requires_grad_(True).to(device)\n",
        "\n",
        "device = torch.device(\"cuda:0\" if torch.cuda.is_available() else \"cpu\")"
      ]
    },
    {
      "cell_type": "markdown",
      "source": [
        "#I am not really sure what all of the coding means here but I know that some of the codes are telling the system what is what and what I am going to be inserting to get the data that I need"
      ],
      "metadata": {
        "id": "DgVsYvNVhey1"
      }
    },
    {
      "cell_type": "code",
      "execution_count": 3,
      "metadata": {
        "id": "opN3hI0lemBV",
        "colab": {
          "base_uri": "https://localhost:8080/",
          "height": 67,
          "referenced_widgets": [
            "6ff28b6975314a188d1ef347ce701cd1",
            "3b476249a3b74f75babaf62f44b09070",
            "e34d976d18364372b9598c25186b43cc",
            "dc2e298d316d40baa6fdf36248e311a4",
            "292fd727cd9e48259bfbb944a60293ec",
            "41ac0844e39d4b878eb5d781d72dc347",
            "dc4f68a7295346e6b5911b308c24ce48",
            "c1edd2105f6f4194bd900c57f9ce58b0",
            "01a1e443211f47e4a59e01249bbaba11",
            "2b359aa552bd4507bb75a66f0fd9ff11",
            "72568c13c6614643b6ec89c285f223db"
          ]
        },
        "outputId": "7a442709-486c-4f62-9459-fddeac74ad93"
      },
      "outputs": [
        {
          "output_type": "stream",
          "name": "stderr",
          "text": [
            "Downloading: \"https://download.pytorch.org/models/alexnet-owt-7be5be79.pth\" to /root/.cache/torch/hub/checkpoints/alexnet-owt-7be5be79.pth\n"
          ]
        },
        {
          "output_type": "display_data",
          "data": {
            "text/plain": [
              "  0%|          | 0.00/233M [00:00<?, ?B/s]"
            ],
            "application/vnd.jupyter.widget-view+json": {
              "version_major": 2,
              "version_minor": 0,
              "model_id": "6ff28b6975314a188d1ef347ce701cd1"
            }
          },
          "metadata": {}
        }
      ],
      "source": [
        "labels = {int(key):value for (key, value) in requests.get('https://s3.amazonaws.com/mlpipes/pytorch-quick-start/labels.json').json().items()}\n",
        "\n",
        "model = alexnet(weights='DEFAULT').to(device)\n",
        "model.eval();"
      ]
    },
    {
      "cell_type": "markdown",
      "source": [
        "#Here I just downloaded the link"
      ],
      "metadata": {
        "id": "0KFNOGIkiQTl"
      }
    },
    {
      "cell_type": "code",
      "execution_count": null,
      "metadata": {
        "id": "2EnZVMTqiqwz"
      },
      "outputs": [],
      "source": [
        "url = \"https://docs.google.com/presentation/d/1X6azD16YrFxnnykG3k-YRpfi53HWzQXFnYPaJxWiZLU/edit#slide=id.p\""
      ]
    },
    {
      "cell_type": "markdown",
      "source": [
        "#Here I inserted the link for my Shoes that are tied and shoes that are untied slideshow"
      ],
      "metadata": {
        "id": "V0gfV_mdiT7r"
      }
    },
    {
      "cell_type": "code",
      "execution_count": null,
      "metadata": {
        "id": "h7MhH8hrR3AE"
      },
      "outputs": [],
      "source": [
        "images = []\n",
        "\n",
        "for image in get_slides(url):\n",
        "\n",
        "    plot(image)\n",
        "\n",
        "    images.append(load(image))\n",
        "\n",
        "images = torch.vstack(images)"
      ]
    },
    {
      "cell_type": "markdown",
      "source": [
        "#These are all of the images from my slide show"
      ],
      "metadata": {
        "id": "6O2T1hCYidcV"
      }
    },
    {
      "cell_type": "code",
      "execution_count": null,
      "metadata": {
        "id": "uKsUVAPdQwmP"
      },
      "outputs": [],
      "source": [
        "images.shape"
      ]
    },
    {
      "cell_type": "code",
      "execution_count": 7,
      "metadata": {
        "colab": {
          "base_uri": "https://localhost:8080/"
        },
        "id": "fJlgt1avR3I9",
        "outputId": "855f8c76-6883-4630-db48-6f5243ffcfd5"
      },
      "outputs": [
        {
          "output_type": "execute_result",
          "data": {
            "text/plain": [
              "tensor([[ 1.8801, -3.0064, -3.8802,  ..., -4.2731,  1.1649,  2.2171],\n",
              "        [-2.7574, -2.8196, -6.1070,  ..., -4.5374, -1.4345,  2.3864],\n",
              "        [-1.8829, -2.7189, -3.1276,  ..., -0.2866,  5.1274,  2.9155],\n",
              "        ...,\n",
              "        [-2.0395, -2.5000, -3.7125,  ..., -1.3778,  0.4858,  2.9833],\n",
              "        [-2.4381, -1.2559, -3.0731,  ..., -3.5094,  1.2917,  3.1698],\n",
              "        [-2.5813, -1.0298, -2.6619,  ..., -4.4949,  0.8219,  2.1164]],\n",
              "       device='cuda:0', grad_fn=<AddmmBackward0>)"
            ]
          },
          "metadata": {},
          "execution_count": 7
        }
      ],
      "source": [
        "model(images)"
      ]
    },
    {
      "cell_type": "code",
      "execution_count": 8,
      "metadata": {
        "id": "lgGzMREYR3LN"
      },
      "outputs": [],
      "source": [
        "y = model(images)"
      ]
    },
    {
      "cell_type": "code",
      "execution_count": 9,
      "metadata": {
        "colab": {
          "base_uri": "https://localhost:8080/"
        },
        "id": "L3NVy8_7T_rb",
        "outputId": "e5d56ecf-1819-403c-c922-ae2c8b072df3"
      },
      "outputs": [
        {
          "output_type": "execute_result",
          "data": {
            "text/plain": [
              "torch.Size([50, 1000])"
            ]
          },
          "metadata": {},
          "execution_count": 9
        }
      ],
      "source": [
        "y.shape"
      ]
    },
    {
      "cell_type": "code",
      "execution_count": 10,
      "metadata": {
        "id": "UsYfYT6UR3Nn"
      },
      "outputs": [],
      "source": [
        "guesses = torch.argmax(y, 1).cpu().numpy()"
      ]
    },
    {
      "cell_type": "code",
      "execution_count": 11,
      "metadata": {
        "colab": {
          "base_uri": "https://localhost:8080/"
        },
        "id": "QvSec8rITW7T",
        "outputId": "713e83e1-dbd3-4fc7-a714-e6db071f678d"
      },
      "outputs": [
        {
          "output_type": "stream",
          "name": "stdout",
          "text": [
            "swimming trunks, bathing trunks\n",
            "comic book\n",
            "shopping basket\n",
            "running shoe\n",
            "Loafer\n",
            "running shoe\n",
            "electric fan, blower\n",
            "running shoe\n",
            "pedestal, plinth, footstall\n",
            "running shoe\n",
            "bulletproof vest\n",
            "running shoe\n",
            "Loafer\n",
            "running shoe\n",
            "saltshaker, salt shaker\n",
            "potter's wheel\n",
            "panpipe, pandean pipe, syrinx\n",
            "envelope\n",
            "panpipe, pandean pipe, syrinx\n",
            "can opener, tin opener\n",
            "web site, website, internet site, site\n",
            "revolver, six-gun, six-shooter\n",
            "corkscrew, bottle screw\n",
            "syringe\n",
            "envelope\n",
            "envelope\n",
            "lighter, light, igniter, ignitor\n",
            "power drill\n",
            "letter opener, paper knife, paperknife\n",
            "envelope\n",
            "panpipe, pandean pipe, syrinx\n",
            "envelope\n",
            "panpipe, pandean pipe, syrinx\n",
            "assault rifle, assault gun\n",
            "lighter, light, igniter, ignitor\n",
            "syringe\n",
            "letter opener, paper knife, paperknife\n",
            "lipstick, lip rouge\n",
            "switch, electric switch, electrical switch\n",
            "panpipe, pandean pipe, syrinx\n",
            "letter opener, paper knife, paperknife\n",
            "screw\n",
            "envelope\n",
            "running shoe\n",
            "analog clock\n",
            "thimble\n",
            "lighter, light, igniter, ignitor\n",
            "web site, website, internet site, site\n",
            "Band Aid\n",
            "hair slide\n"
          ]
        }
      ],
      "source": [
        "for i in list(guesses):\n",
        "    print(labels[i])"
      ]
    },
    {
      "cell_type": "code",
      "execution_count": 12,
      "metadata": {
        "id": "CALvf79gjAY-"
      },
      "outputs": [],
      "source": [
        "Y = np.zeros(50,)\n",
        "Y[25:] = 1"
      ]
    },
    {
      "cell_type": "code",
      "execution_count": 13,
      "metadata": {
        "colab": {
          "base_uri": "https://localhost:8080/"
        },
        "id": "HSF3ICfP04kM",
        "outputId": "2069ca00-c8b1-46d3-9ac5-04a6040ebfb9"
      },
      "outputs": [
        {
          "output_type": "execute_result",
          "data": {
            "text/plain": [
              "array([0., 0., 0., 0., 0., 0., 0., 0., 0., 0., 0., 0., 0., 0., 0., 0., 0.,\n",
              "       0., 0., 0., 0., 0., 0., 0., 0., 1., 1., 1., 1., 1., 1., 1., 1., 1.,\n",
              "       1., 1., 1., 1., 1., 1., 1., 1., 1., 1., 1., 1., 1., 1., 1., 1.])"
            ]
          },
          "metadata": {},
          "execution_count": 13
        }
      ],
      "source": [
        "Y"
      ]
    },
    {
      "cell_type": "code",
      "execution_count": 14,
      "metadata": {
        "id": "ZqvMEcxhY6dl"
      },
      "outputs": [],
      "source": [
        "X = y.detach().cpu().numpy() "
      ]
    },
    {
      "cell_type": "code",
      "execution_count": 15,
      "metadata": {
        "colab": {
          "base_uri": "https://localhost:8080/"
        },
        "id": "KqPB9TKyEJCS",
        "outputId": "7f36bc74-5bf9-40b8-c0d7-cc43107a539f"
      },
      "outputs": [
        {
          "output_type": "execute_result",
          "data": {
            "text/plain": [
              "(50, 1000)"
            ]
          },
          "metadata": {},
          "execution_count": 15
        }
      ],
      "source": [
        "X.shape"
      ]
    },
    {
      "cell_type": "code",
      "execution_count": 16,
      "metadata": {
        "colab": {
          "base_uri": "https://localhost:8080/",
          "height": 283
        },
        "id": "OB9J8q8LEgCG",
        "outputId": "6db76386-9e4c-43af-cda0-3741ba3dacfa"
      },
      "outputs": [
        {
          "output_type": "execute_result",
          "data": {
            "text/plain": [
              "[<matplotlib.lines.Line2D at 0x7fbbcc461e80>]"
            ]
          },
          "metadata": {},
          "execution_count": 16
        },
        {
          "output_type": "display_data",
          "data": {
            "text/plain": [
              "<Figure size 432x288 with 1 Axes>"
            ],
            "image/png": "[encoded data removed]"
          },
          "metadata": {
            "needs_background": "light"
          }
        }
      ],
      "source": [
        "plt.plot(X[0],'.')"
      ]
    },
    {
      "cell_type": "code",
      "execution_count": 17,
      "metadata": {
        "colab": {
          "base_uri": "https://localhost:8080/"
        },
        "id": "_pfcg2h51IQr",
        "outputId": "840d1c48-64b0-4e74-c587-ec40c7d3b98b"
      },
      "outputs": [
        {
          "output_type": "execute_result",
          "data": {
            "text/plain": [
              "array([ 1.88007975e+00, -3.00638533e+00, -3.88024306e+00, -4.55210781e+00,\n",
              "       -2.98351026e+00, -1.26535285e+00, -3.77314854e+00, -5.04082537e+00,\n",
              "       -3.67159188e-01, -7.35251760e+00,  1.59393698e-01, -1.56850815e+00,\n",
              "       -2.50655937e+00, -4.06130123e+00, -2.51139188e+00, -3.71523714e+00,\n",
              "       -1.89228165e+00, -9.27078128e-02, -5.57616115e-01,  7.28075087e-01,\n",
              "       -3.68647218e+00, -2.28194666e+00, -3.18604779e+00, -3.22411585e+00,\n",
              "       -2.55684233e+00, -3.09064388e-01, -2.94155264e+00, -2.95714855e+00,\n",
              "        1.50949860e+00, -1.53829610e+00, -1.75248861e+00, -1.56439483e+00,\n",
              "       -1.04885685e+00, -8.10100496e-01,  1.01105690e+00, -6.76918387e-01,\n",
              "        1.65430057e+00, -1.69186449e+00, -1.76856685e+00, -2.71038681e-01,\n",
              "       -2.00331855e+00, -5.62342048e-01, -4.28003550e+00,  1.62052572e-01,\n",
              "       -2.62900543e+00, -2.05712342e+00, -5.48328876e-01,  8.92259479e-01,\n",
              "       -2.12015247e+00, -3.98379183e+00, -9.19374228e-01,  4.87309694e+00,\n",
              "       -2.55309939e+00, -8.00754070e-01, -1.95351052e+00, -1.48119020e+00,\n",
              "       -4.04498100e+00, -3.08463955e+00, -2.95882916e+00,  2.18510413e+00,\n",
              "       -1.67436647e+00, -1.93384302e+00, -1.41919506e+00,  1.67889178e+00,\n",
              "        8.18419516e-01, -2.13687372e+00,  8.91476989e-01, -3.31728458e+00,\n",
              "       -1.52492553e-01, -1.57808334e-01, -5.14158869e+00,  1.83071947e+00,\n",
              "       -3.80963397e+00, -1.16035891e+00, -3.35879350e+00, -4.67443943e+00,\n",
              "       -6.97354078e-01, -2.73132443e+00, -2.61056161e+00, -1.92972481e+00,\n",
              "       -1.15525544e+00, -2.97857356e+00, -2.15298128e+00, -4.18714428e+00,\n",
              "       -4.26522493e+00, -4.30877829e+00, -3.29846525e+00,  1.37483501e+00,\n",
              "        1.90668070e+00, -1.27987087e+00, -2.68270302e+00, -1.61906016e+00,\n",
              "       -5.03708696e+00, -1.48303616e+00, -2.08895698e-01, -6.49380970e+00,\n",
              "       -5.54226100e-01, -2.14220834e+00, -3.03978276e+00, -3.51972532e+00,\n",
              "       -2.67036724e+00, -1.06539381e+00, -1.49723518e+00,  4.00275040e+00,\n",
              "       -3.08849120e+00, -4.29034173e-01, -2.26422119e+00, -5.65913296e+00,\n",
              "       -2.17963266e+00, -5.74053407e-01, -4.90460253e+00, -1.95077014e+00,\n",
              "       -1.47284433e-01,  3.95022094e-01, -4.19567680e+00, -3.39734530e+00,\n",
              "       -2.01879692e+00,  2.70928597e+00, -4.74619865e-01, -2.46552730e+00,\n",
              "       -3.56819844e+00, -3.02069187e+00,  1.93643224e+00, -1.41970801e+00,\n",
              "        2.80537069e-01, -2.25831342e+00,  2.40217805e+00, -5.07161808e+00,\n",
              "       -5.67786932e+00, -4.51731586e+00, -6.21637344e+00, -3.93574595e+00,\n",
              "       -4.69530487e+00, -4.20959425e+00, -3.58776379e+00, -4.27433729e+00,\n",
              "       -4.31489515e+00, -2.09539461e+00, -4.01357460e+00, -3.99130964e+00,\n",
              "       -6.53454065e+00, -6.84648705e+00, -5.85811806e+00, -4.49600554e+00,\n",
              "       -5.70559788e+00, -2.45725965e+00, -2.04647517e+00, -5.26846695e+00,\n",
              "       -9.87890422e-01, -7.64587045e-01,  1.15244389e+00,  3.47746897e+00,\n",
              "       -6.88658893e-01, -1.50768161e+00, -6.80420160e-01, -2.21054554e-01,\n",
              "       -2.29889679e+00,  1.54109788e+00,  3.36857796e-01, -1.69618034e+00,\n",
              "        1.99605823e-01,  5.69544017e-01, -2.68071699e+00, -2.22412944e-02,\n",
              "        8.84894788e-01, -9.09694135e-01, -3.45474100e+00, -1.98179710e+00,\n",
              "       -1.39664042e+00, -3.35014045e-01, -2.64314342e+00,  3.65816176e-01,\n",
              "        1.06183791e+00, -9.39056575e-02,  8.44761133e-01, -5.20431232e+00,\n",
              "       -2.13306591e-01, -9.27685916e-01,  1.17325616e+00,  1.23007238e+00,\n",
              "       -2.00727642e-01, -1.83063519e+00, -6.98965967e-01,  5.33482134e-01,\n",
              "       -6.30816400e-01, -4.03342247e-01, -4.43751782e-01,  1.76420808e-01,\n",
              "       -2.34312868e+00,  3.35986018e-02,  1.07749867e+00, -6.35333419e-01,\n",
              "       -3.09660888e+00, -1.93019724e+00, -3.08828974e+00,  2.95420837e+00,\n",
              "       -4.08043355e-01,  1.51103067e+00, -9.85074639e-01,  1.89346147e+00,\n",
              "       -6.61874771e-01, -3.10740280e+00, -2.38686228e+00, -1.62746215e+00,\n",
              "       -1.44797301e+00,  1.72584534e+00,  5.87437630e-01, -2.35038534e-01,\n",
              "        3.32990551e+00, -1.24698412e+00,  4.29878712e-01,  3.02080929e-01,\n",
              "       -1.54138613e+00, -2.06202292e+00, -1.08018816e-01, -1.18833816e+00,\n",
              "       -1.22095585e-01, -9.30842042e-01, -3.92085457e+00,  2.79885292e-01,\n",
              "        1.04103327e+00, -2.20040989e+00, -1.41202831e+00,  7.13320971e-01,\n",
              "       -3.47365975e-01, -2.30767488e-01, -5.50440311e-01,  3.09733987e-01,\n",
              "       -3.43554902e+00, -3.01094556e+00, -7.36638367e-01, -2.05318022e+00,\n",
              "       -1.69830644e+00,  1.77024090e+00,  5.40578365e-03,  1.44243765e+00,\n",
              "       -7.12486863e-01, -3.28714788e-01, -3.78088921e-01, -2.07946062e-01,\n",
              "       -2.55992293e-01, -1.90075040e+00,  6.63617373e-01,  5.38064122e-01,\n",
              "       -1.04387057e+00,  3.50231409e+00,  2.37634444e+00, -9.51067328e-01,\n",
              "       -2.77308106e-01, -2.23464561e+00, -1.59470487e+00, -1.93583989e+00,\n",
              "        3.27463001e-01,  1.67198464e-01,  2.12071013e+00, -3.12267256e+00,\n",
              "        2.11657977e+00, -3.57080603e+00, -2.99146128e+00, -1.82570124e+00,\n",
              "        5.46159744e-01, -1.43554211e-01,  2.90997171e+00, -2.17673254e+00,\n",
              "       -5.44589341e-01, -4.42238003e-02, -2.34647608e+00,  1.78740770e-01,\n",
              "        8.53248715e-01, -2.50603318e+00, -2.05985785e+00, -2.26295280e+00,\n",
              "       -3.57469034e+00, -1.73560059e+00, -2.76022911e+00, -4.27496672e+00,\n",
              "       -4.08581066e+00, -4.31209040e+00, -3.84281969e+00, -1.91571116e+00,\n",
              "       -3.11347508e+00,  5.27761030e+00,  3.20491743e+00,  2.53500164e-01,\n",
              "       -7.12659836e-01,  4.45281267e+00, -1.84018016e+00, -6.79995716e-01,\n",
              "       -2.39846230e+00, -2.83843279e+00,  3.16319764e-01, -4.86982822e+00,\n",
              "        3.14081264e+00, -2.04709482e+00, -3.14034414e+00, -1.82885557e-01,\n",
              "       -3.40259051e+00, -1.46911013e+00, -2.44107294e+00,  2.00243592e-01,\n",
              "       -3.01548719e+00, -4.29554939e+00, -2.52762341e+00, -4.10512590e+00,\n",
              "       -4.38178301e+00, -8.00252676e-01,  2.79957950e-01, -2.76808739e+00,\n",
              "       -1.95052052e+00, -3.24476671e+00, -1.38709843e-01, -2.44368553e+00,\n",
              "       -1.08822227e+00, -2.98822522e+00, -1.64681256e+00, -4.65494037e-01,\n",
              "       -3.99134248e-01, -4.15372086e+00, -4.21125984e+00, -3.20783198e-01,\n",
              "       -2.46250296e+00, -4.44326496e+00, -3.47173333e+00, -3.18828177e+00,\n",
              "       -4.47661209e+00, -2.76657534e+00, -2.98261333e+00,  8.76576781e-01,\n",
              "       -4.09273338e+00, -3.29560900e+00, -7.73625672e-01, -2.64249849e+00,\n",
              "       -2.02673769e+00, -1.66649354e+00, -2.49250174e+00, -3.22224903e+00,\n",
              "       -4.95949936e+00, -2.38838530e+00,  9.37555552e-01, -6.57819653e+00,\n",
              "        1.58081079e+00, -2.68708563e+00, -3.93761230e+00, -2.17861199e+00,\n",
              "       -3.05202770e+00, -4.91702700e+00, -2.22099066e+00, -4.53286266e+00,\n",
              "       -6.04583263e+00, -4.14392424e+00, -2.84145308e+00, -4.35519266e+00,\n",
              "       -4.32035637e+00, -3.46586323e+00, -1.14562953e+00, -3.35189676e+00,\n",
              "        5.51613808e-01, -8.27103734e-01,  2.89154708e-01, -8.20913196e-01,\n",
              "       -3.10650778e+00,  2.64662361e+00, -2.86734533e+00, -2.03989124e+00,\n",
              "       -1.54938251e-01,  8.18692684e-01,  2.34481645e+00,  1.77391362e+00,\n",
              "       -3.67889977e+00,  1.79935050e+00, -2.36778092e+00, -1.82596374e+00,\n",
              "       -5.53936148e+00, -2.44690514e+00, -3.67430067e+00, -2.12978935e+00,\n",
              "       -1.15402555e+00, -2.72441030e+00, -9.65527892e-01, -2.89787054e-01,\n",
              "       -8.58977258e-01, -1.95350870e-01, -2.52977753e+00, -2.11337805e+00,\n",
              "       -3.15736222e+00, -2.65280676e+00, -2.76919842e+00, -2.29997969e+00,\n",
              "       -2.37806487e+00,  6.05644047e-01, -2.54445171e+00,  1.79386306e+00,\n",
              "        2.01336563e-01, -4.36006451e+00, -3.49543238e+00,  7.31046081e-01,\n",
              "       -4.03080559e+00, -6.67841864e+00,  9.41445649e-01,  4.81705570e+00,\n",
              "        2.71967459e+00,  2.45346880e+00,  3.46600533e-01, -4.43431044e+00,\n",
              "       -2.75724459e+00, -9.11546052e-01, -1.75806844e+00, -2.52552986e+00,\n",
              "       -2.73128128e+00,  4.39100504e-01, -3.32349372e+00,  1.77890527e+00,\n",
              "        5.53254652e+00, -1.80719167e-01,  6.59590960e+00, -4.24319565e-01,\n",
              "        2.83367753e-01,  3.20621848e-01,  3.09551859e+00,  4.21986866e+00,\n",
              "       -9.74850059e-01, -5.97502053e-01,  2.14997029e+00,  2.40039110e+00,\n",
              "       -4.78847980e-01, -7.10739088e+00, -5.12416303e-01, -1.43554986e-01,\n",
              "        4.62069005e-01,  6.39473736e-01,  2.44369888e+00,  3.56384921e+00,\n",
              "       -6.64462268e-01,  2.77106237e+00,  3.94372702e+00,  3.27855492e+00,\n",
              "       -1.99484611e+00, -4.17985296e+00,  1.77106726e+00,  4.24704266e+00,\n",
              "        1.46319890e+00,  1.83759582e+00, -1.37865937e+00,  1.56213534e+00,\n",
              "       -1.09433925e+00,  3.25527191e+00,  4.55068541e+00,  4.57632065e+00,\n",
              "       -1.82051611e+00, -4.57088232e+00, -9.52887535e-03,  8.01181495e-01,\n",
              "        4.15880060e+00, -9.68374908e-01, -2.03136539e+00,  5.30351937e-01,\n",
              "        3.10029459e+00,  5.99001789e+00,  5.15229285e-01,  2.05355000e+00,\n",
              "       -5.65423203e+00,  4.42450190e+00,  1.66849720e+00,  5.07993031e+00,\n",
              "        7.61186314e+00,  5.50532246e+00, -1.65951228e+00, -3.00291491e+00,\n",
              "       -2.31025386e+00,  5.15797520e+00,  6.68132782e+00,  1.10320234e+00,\n",
              "        6.70870900e-01,  4.74911165e+00,  1.10190272e+00,  1.36042297e+00,\n",
              "        1.27128637e+00,  5.29799938e+00,  3.84630537e+00,  2.53494287e+00,\n",
              "       -1.54555440e-02,  1.06181848e+00,  1.50593901e+00, -3.79230714e+00,\n",
              "       -4.81965733e+00,  1.90517759e+00, -1.62156558e+00,  2.21723723e+00,\n",
              "        1.99229884e+00, -3.17016029e+00,  1.64127398e+00,  4.03881162e-01,\n",
              "       -8.06346536e-03, -4.26753807e+00,  2.41490626e+00, -4.30686903e+00,\n",
              "        2.31585264e+00, -5.88124847e+00, -1.11194837e+00,  2.94910669e+00,\n",
              "       -6.63085747e+00,  4.19190311e+00,  7.07884121e+00,  4.95567226e+00,\n",
              "        4.28748894e+00,  1.71379077e+00,  3.19368792e+00,  2.90225124e+00,\n",
              "        1.40586936e+00, -2.12929940e+00, -3.59967184e+00, -1.55523229e+00,\n",
              "        5.97228193e+00,  1.38527453e+00,  8.20881271e+00,  4.88154840e+00,\n",
              "        2.52844381e+00, -4.87010598e-01,  4.96903467e+00,  1.48612273e+00,\n",
              "       -9.33493376e-01,  1.89542067e+00,  3.43487072e+00,  2.67090678e+00,\n",
              "        3.72589016e+00, -2.90325546e+00, -4.95402932e-01,  3.85841060e+00,\n",
              "        2.91803217e+00,  7.84675074e+00,  1.33233666e+00,  1.31282002e-01,\n",
              "       -7.42639899e-01,  5.85959613e-01,  1.72129774e+00,  1.10674369e+00,\n",
              "       -6.17337847e+00, -2.68928826e-01, -3.80727077e+00,  5.17274189e+00,\n",
              "       -4.70686865e+00,  9.96039510e-02,  1.76644683e+00,  5.00217390e+00,\n",
              "       -2.40501553e-01,  2.83300757e+00,  2.29287833e-01, -5.48306274e+00,\n",
              "       -1.84790456e+00,  2.96414876e+00,  2.42950320e+00,  4.75019217e+00,\n",
              "        1.87570560e+00, -1.37988806e+00, -5.29417706e+00, -3.52651930e+00,\n",
              "       -2.06516623e-01,  4.06287384e+00,  3.79084349e-02,  2.35753846e+00,\n",
              "        3.63208508e+00,  9.36442375e-01,  1.42573524e+00,  5.24169111e+00,\n",
              "       -2.50301266e+00, -1.00958920e+00,  1.83937299e+00,  1.34978604e+00,\n",
              "        1.67162144e+00, -3.00237036e+00,  5.21669483e+00, -8.34733248e-01,\n",
              "        5.81515408e+00,  9.59324956e-01,  3.89197659e+00, -4.43951219e-01,\n",
              "       -3.25180411e+00, -3.96727324e-01,  2.32956743e+00, -5.92537284e-01,\n",
              "       -3.97340035e+00, -2.58656979e+00, -3.79991949e-01,  3.14922541e-01,\n",
              "        4.94850063e+00,  4.22269440e+00, -2.07179457e-01,  3.07478189e+00,\n",
              "        1.71446013e+00,  4.08499813e+00,  2.63015580e+00,  6.56951141e+00,\n",
              "        2.45699406e+00,  3.01895356e+00, -1.22998035e+00,  8.88322473e-01,\n",
              "        3.12052774e+00,  2.96705651e+00, -1.26167989e+00,  4.43685979e-01,\n",
              "        2.51149058e+00,  3.71435475e+00,  2.56253886e+00, -4.42637682e+00,\n",
              "        4.18304443e+00,  2.81640482e+00,  5.40591908e+00, -2.19956207e+00,\n",
              "        6.96899891e+00, -5.29903555e+00,  5.85534525e+00,  6.06476247e-01,\n",
              "       -2.22173023e+00,  5.52611732e+00,  3.16975808e+00,  6.84575224e+00,\n",
              "        3.59750557e+00,  1.65508080e+00,  4.66806364e+00,  2.60208082e+00,\n",
              "        6.57510853e+00,  6.30113482e-01,  3.71797180e+00,  2.85018086e+00,\n",
              "       -4.55832291e+00, -5.79878521e+00,  2.82184172e+00, -2.27860856e+00,\n",
              "       -4.92096472e+00,  3.13178778e+00,  9.20544529e+00,  3.45421982e+00,\n",
              "        4.13476658e+00,  2.00865507e+00, -5.58403540e+00,  4.33642769e+00,\n",
              "        4.89318991e+00, -2.45660877e+00,  4.97875118e+00,  3.64751577e+00,\n",
              "       -4.80584383e+00,  4.38862228e+00, -6.19101524e-01,  5.53242731e+00,\n",
              "        2.07978797e+00, -4.97066528e-02, -2.45365715e+00,  4.10948277e+00,\n",
              "       -2.37158847e+00, -2.80152225e+00,  3.48152304e+00, -8.02197695e-01,\n",
              "        3.38175488e+00,  5.56255937e-01, -2.37301326e+00,  3.54046798e+00,\n",
              "       -5.76660931e-01, -1.97632521e-01,  2.31472826e+00,  2.59156251e+00,\n",
              "       -4.74425554e+00, -4.68257666e+00,  4.63068438e+00, -5.98895311e+00,\n",
              "        4.95819616e+00,  4.05483961e-01,  5.72534513e+00,  6.58488178e+00,\n",
              "       -3.32016802e+00, -1.34926653e+00,  1.34065819e+00, -7.94353485e-01,\n",
              "        3.27333951e+00,  4.81581831e+00,  4.52270174e+00, -1.71133351e+00,\n",
              "        4.09390068e+00,  2.68752909e+00,  3.59091091e+00,  1.77863264e+00,\n",
              "        3.45499897e+00,  5.24058962e+00, -1.84334898e+00,  2.76951218e+00,\n",
              "        4.36911297e+00, -2.96578741e+00,  1.65007520e+00, -4.64820337e+00,\n",
              "       -1.07956028e+00,  4.53834438e+00, -3.94996071e+00,  6.00718164e+00,\n",
              "        4.93479395e+00, -7.00290740e-01, -2.58128285e+00,  2.65424156e+00,\n",
              "        3.59625149e+00,  4.27143908e+00, -3.09507704e+00,  2.35412812e+00,\n",
              "        5.90700579e+00,  1.23790765e+00,  8.68456841e-01, -8.41750979e-01,\n",
              "       -3.11118650e+00, -4.70271254e+00, -1.94336176e+00, -2.46514940e+00,\n",
              "        6.69223928e+00,  4.53005981e+00,  4.07975769e+00,  7.28856897e+00,\n",
              "       -2.99841166e-01,  1.69666183e+00,  4.16707706e+00,  5.27907133e-01,\n",
              "       -2.42917776e+00, -1.64066899e+00, -2.44243145e+00,  3.60199594e+00,\n",
              "        4.96427393e+00,  6.76922131e+00,  5.35787106e+00,  3.54777384e+00,\n",
              "       -2.78148174e+00,  5.69228363e+00,  1.73167932e+00, -3.82591391e+00,\n",
              "        5.14804411e+00, -2.15191841e-01,  6.65065587e-01,  5.09561729e+00,\n",
              "        1.22954667e+00,  2.63959095e-02, -2.75443268e+00,  1.67955208e+00,\n",
              "       -3.35808218e-01,  2.08718371e+00,  5.43978930e+00,  5.12428474e+00,\n",
              "        3.90140915e+00,  1.87186325e+00,  2.31199503e+00, -3.83290410e-01,\n",
              "        2.96656823e+00,  9.21841264e-01,  4.66669464e+00,  3.70423007e+00,\n",
              "        4.42430639e+00,  6.01155758e+00,  2.47531986e+00, -4.09044623e-02,\n",
              "        1.96033251e+00,  3.12214518e+00,  3.71022940e+00, -6.87727690e-01,\n",
              "        1.32049274e+00, -2.11265898e+00,  1.77133512e+00,  2.15960240e+00,\n",
              "        2.65771818e+00,  4.00853157e+00, -2.26942945e+00,  1.25521815e+00,\n",
              "       -4.09563035e-01,  3.40151238e+00, -1.05187690e+00,  4.13409567e+00,\n",
              "        1.46251500e-01,  3.42668700e+00,  1.04166718e+01, -1.35138726e+00,\n",
              "        3.39049864e+00,  5.96786022e+00,  8.42101383e+00,  5.11567497e+00,\n",
              "        2.11234045e+00,  1.83481359e+00,  2.54481196e+00, -6.46868706e+00,\n",
              "       -3.42564893e+00, -4.66809559e+00,  5.18698645e+00,  6.55061293e+00,\n",
              "        4.91989470e+00,  3.12170792e+00, -3.72825086e-01,  9.33159232e-01,\n",
              "        3.63778424e+00, -1.44232178e+00,  4.43648815e+00, -2.40371883e-01,\n",
              "        4.00396824e+00,  5.84378147e+00,  3.35183173e-01,  5.50613260e+00,\n",
              "        3.80315042e+00,  8.59151173e+00, -3.41993904e+00, -3.73625088e+00,\n",
              "       -2.27733707e+00,  2.45484138e+00,  3.95121384e+00, -1.22850418e-01,\n",
              "        5.30644703e+00,  1.78141284e+00,  7.45407629e+00,  1.36318862e+00,\n",
              "        4.83835459e+00,  2.13266492e+00,  1.83073747e+00, -8.22049022e-01,\n",
              "       -2.11109042e+00,  4.63038063e+00, -2.48785543e+00, -3.86662650e+00,\n",
              "        1.67207778e+00, -1.11769485e+00,  4.64991093e+00, -3.43909311e+00,\n",
              "       -6.43755436e+00, -5.02808952e+00,  1.79608834e+00,  6.72360611e+00,\n",
              "        4.87393713e+00, -3.67019105e+00,  7.09004939e-01,  3.11126471e+00,\n",
              "        1.02769566e+00, -4.01762772e+00,  1.60608304e+00,  3.22989130e+00,\n",
              "       -3.59366465e+00, -4.51581573e+00,  2.21236134e+00,  3.76472378e+00,\n",
              "        3.06706238e+00,  2.59451628e+00,  2.50981498e+00, -4.29484034e+00,\n",
              "        5.26439905e+00,  6.76477814e+00,  1.04336777e+01,  2.21397495e+00,\n",
              "        1.21679568e+00,  2.04940438e+00,  4.73420238e+00, -2.22742319e+00,\n",
              "       -1.15626387e-01,  6.28338695e-01,  1.28713477e+00,  3.29955769e+00,\n",
              "        4.86814213e+00, -3.67153168e+00, -4.87365633e-01,  6.18737745e+00,\n",
              "       -1.00189590e+00, -7.77334154e-01,  6.95891380e-01,  2.14871120e+00,\n",
              "        1.08859682e+00,  2.81400347e+00,  5.80654025e-01,  1.97519541e+00,\n",
              "       -1.03630960e+00, -1.86503887e+00, -2.64189935e+00, -3.63541961e+00,\n",
              "        3.28871393e+00,  1.34488952e+00, -2.13482529e-01, -1.20681119e+00,\n",
              "        2.20372343e+00, -4.59119129e+00, -5.39420509e+00,  9.59964693e-01,\n",
              "        3.16400385e+00, -2.47061253e+00,  8.79507005e-01,  1.83054197e+00,\n",
              "        2.37295222e+00, -2.53011751e+00,  3.16789126e+00,  5.14903021e+00,\n",
              "       -6.33109903e+00,  6.23405647e+00, -1.38560116e-01,  1.76435208e+00,\n",
              "       -5.75666618e+00, -5.71883261e-01, -5.01317739e-01,  2.86184859e+00,\n",
              "        9.57654238e-01,  5.70504761e+00,  3.67561221e-01, -1.50586820e+00,\n",
              "        3.16565323e+00,  3.55407572e+00,  6.01619911e+00,  3.71067333e+00,\n",
              "       -3.47022200e+00,  1.25145674e+00,  4.30649900e+00,  3.49621439e+00,\n",
              "        1.09648132e+00, -1.77802652e-01,  5.24554729e+00,  3.00897431e+00,\n",
              "       -3.01263762e+00,  1.79151452e+00,  1.19951808e+00,  2.98412967e+00,\n",
              "       -4.28003931e+00, -3.87597442e+00, -4.63068008e+00, -2.82211447e+00,\n",
              "        2.56488991e+00,  2.04290104e+00,  1.76752627e+00, -2.73991966e+00,\n",
              "       -3.66166472e-01,  3.85873842e+00,  2.91009545e-01,  5.34016967e-01,\n",
              "       -8.60276043e-01, -2.09166706e-02, -1.19111288e+00, -2.04769230e+00,\n",
              "       -5.63417375e-01,  9.20024037e-01,  5.83549380e-01, -1.86440855e-01,\n",
              "        1.97259092e+00, -4.28328276e+00, -4.73802835e-01, -2.53533030e+00,\n",
              "        5.42531204e+00,  4.74180222e+00,  3.37965584e+00,  3.13602996e+00,\n",
              "        3.81259292e-01,  4.55460358e+00, -1.54340243e+00,  3.06372190e+00,\n",
              "        3.74066734e+00,  3.27160978e+00, -2.81864786e+00, -1.09098804e+00,\n",
              "        1.25757623e+00,  1.60320759e+00,  1.48185408e+00,  1.99760926e+00,\n",
              "        2.87271500e+00,  5.82802820e+00,  2.19799566e+00, -1.72764981e+00,\n",
              "        3.44628668e+00, -1.40580320e+00, -4.56343842e+00, -1.40038943e+00,\n",
              "        1.10125506e+00, -4.68463182e+00, -2.13909864e+00, -2.22688365e+00,\n",
              "       -2.82391644e+00,  2.38420558e+00,  3.23851752e+00,  2.91243821e-01,\n",
              "        4.69962215e+00,  2.27056766e+00, -2.95146751e+00, -3.25776070e-01,\n",
              "       -1.13586521e+00, -2.49779916e+00, -4.92582178e+00, -2.72047424e+00,\n",
              "       -3.37024450e+00, -8.20361555e-01, -5.30896783e-01, -3.63170552e+00,\n",
              "       -4.08225727e+00,  5.43635428e-01,  2.60055375e+00, -2.31640816e+00,\n",
              "       -6.95933819e-01, -1.06944585e+00, -3.80883169e+00,  2.54001689e+00,\n",
              "        1.02043498e+00, -1.87119389e+00, -4.53084260e-01, -6.15039635e+00,\n",
              "       -6.03749514e+00, -1.34080422e+00, -3.72112298e+00, -2.39968538e+00,\n",
              "       -2.97862262e-01, -4.27311563e+00,  1.16491032e+00,  2.21708894e+00],\n",
              "      dtype=float32)"
            ]
          },
          "metadata": {},
          "execution_count": 17
        }
      ],
      "source": [
        "X[0]"
      ]
    },
    {
      "cell_type": "code",
      "execution_count": 18,
      "metadata": {
        "colab": {
          "base_uri": "https://localhost:8080/"
        },
        "id": "BaHI4-u_1O87",
        "outputId": "6ebd2b32-2e2e-44d2-80aa-90a759af601d"
      },
      "outputs": [
        {
          "output_type": "execute_result",
          "data": {
            "text/plain": [
              "842"
            ]
          },
          "metadata": {},
          "execution_count": 18
        }
      ],
      "source": [
        "np.argmax(X[0])"
      ]
    },
    {
      "cell_type": "code",
      "execution_count": 19,
      "metadata": {
        "colab": {
          "base_uri": "https://localhost:8080/",
          "height": 35
        },
        "id": "lEJfAcaM2mdG",
        "outputId": "4904afc5-2897-4bbb-a136-de6068646f37"
      },
      "outputs": [
        {
          "output_type": "execute_result",
          "data": {
            "text/plain": [
              "'Granny Smith'"
            ],
            "application/vnd.google.colaboratory.intrinsic+json": {
              "type": "string"
            }
          },
          "metadata": {},
          "execution_count": 19
        }
      ],
      "source": [
        "labels[948]"
      ]
    },
    {
      "cell_type": "code",
      "execution_count": 20,
      "metadata": {
        "id": "r3wq2fNM13K9"
      },
      "outputs": [],
      "source": [
        "top_ten = np.argsort(X[0])[::-1][0:10]"
      ]
    },
    {
      "cell_type": "code",
      "execution_count": 21,
      "metadata": {
        "colab": {
          "base_uri": "https://localhost:8080/"
        },
        "id": "d3awGR9i18os",
        "outputId": "7377aa60-bd58-47be-c4bf-c7cc00aafc98"
      },
      "outputs": [
        {
          "output_type": "stream",
          "name": "stdout",
          "text": [
            "swimming trunks, bathing trunks\n",
            "running shoe\n",
            "Loafer\n",
            "sleeping bag\n",
            "sandal\n",
            "cowboy boot\n",
            "diaper, nappy, napkin\n",
            "buckle\n",
            "sock\n",
            "perfume, essence\n"
          ]
        }
      ],
      "source": [
        "for i in top_ten:\n",
        "    print(labels[i])"
      ]
    },
    {
      "cell_type": "code",
      "execution_count": 22,
      "metadata": {
        "colab": {
          "base_uri": "https://localhost:8080/"
        },
        "id": "SXOMKyB_1Zfa",
        "outputId": "2b31539d-5423-46f5-8209-cece12a861c2"
      },
      "outputs": [
        {
          "output_type": "execute_result",
          "data": {
            "text/plain": [
              "{0: 'tench, Tinca tinca',\n",
              " 1: 'goldfish, Carassius auratus',\n",
              " 2: 'great white shark, white shark, man-eater, man-eating shark, Carcharodon carcharias',\n",
              " 3: 'tiger shark, Galeocerdo cuvieri',\n",
              " 4: 'hammerhead, hammerhead shark',\n",
              " 5: 'electric ray, crampfish, numbfish, torpedo',\n",
              " 6: 'stingray',\n",
              " 7: 'cock',\n",
              " 8: 'hen',\n",
              " 9: 'ostrich, Struthio camelus',\n",
              " 10: 'brambling, Fringilla montifringilla',\n",
              " 11: 'goldfinch, Carduelis carduelis',\n",
              " 12: 'house finch, linnet, Carpodacus mexicanus',\n",
              " 13: 'junco, snowbird',\n",
              " 14: 'indigo bunting, indigo finch, indigo bird, Passerina cyanea',\n",
              " 15: 'robin, American robin, Turdus migratorius',\n",
              " 16: 'bulbul',\n",
              " 17: 'jay',\n",
              " 18: 'magpie',\n",
              " 19: 'chickadee',\n",
              " 20: 'water ouzel, dipper',\n",
              " 21: 'kite',\n",
              " 22: 'bald eagle, American eagle, Haliaeetus leucocephalus',\n",
              " 23: 'vulture',\n",
              " 24: 'great grey owl, great gray owl, Strix nebulosa',\n",
              " 25: 'European fire salamander, Salamandra salamandra',\n",
              " 26: 'common newt, Triturus vulgaris',\n",
              " 27: 'eft',\n",
              " 28: 'spotted salamander, Ambystoma maculatum',\n",
              " 29: 'axolotl, mud puppy, Ambystoma mexicanum',\n",
              " 30: 'bullfrog, Rana catesbeiana',\n",
              " 31: 'tree frog, tree-frog',\n",
              " 32: 'tailed frog, bell toad, ribbed toad, tailed toad, Ascaphus trui',\n",
              " 33: 'loggerhead, loggerhead turtle, Caretta caretta',\n",
              " 34: 'leatherback turtle, leatherback, leathery turtle, Dermochelys coriacea',\n",
              " 35: 'mud turtle',\n",
              " 36: 'terrapin',\n",
              " 37: 'box turtle, box tortoise',\n",
              " 38: 'banded gecko',\n",
              " 39: 'common iguana, iguana, Iguana iguana',\n",
              " 40: 'American chameleon, anole, Anolis carolinensis',\n",
              " 41: 'whiptail, whiptail lizard',\n",
              " 42: 'agama',\n",
              " 43: 'frilled lizard, Chlamydosaurus kingi',\n",
              " 44: 'alligator lizard',\n",
              " 45: 'Gila monster, Heloderma suspectum',\n",
              " 46: 'green lizard, Lacerta viridis',\n",
              " 47: 'African chameleon, Chamaeleo chamaeleon',\n",
              " 48: 'Komodo dragon, Komodo lizard, dragon lizard, giant lizard, Varanus komodoensis',\n",
              " 49: 'African crocodile, Nile crocodile, Crocodylus niloticus',\n",
              " 50: 'American alligator, Alligator mississipiensis',\n",
              " 51: 'triceratops',\n",
              " 52: 'thunder snake, worm snake, Carphophis amoenus',\n",
              " 53: 'ringneck snake, ring-necked snake, ring snake',\n",
              " 54: 'hognose snake, puff adder, sand viper',\n",
              " 55: 'green snake, grass snake',\n",
              " 56: 'king snake, kingsnake',\n",
              " 57: 'garter snake, grass snake',\n",
              " 58: 'water snake',\n",
              " 59: 'vine snake',\n",
              " 60: 'night snake, Hypsiglena torquata',\n",
              " 61: 'boa constrictor, Constrictor constrictor',\n",
              " 62: 'rock python, rock snake, Python sebae',\n",
              " 63: 'Indian cobra, Naja naja',\n",
              " 64: 'green mamba',\n",
              " 65: 'sea snake',\n",
              " 66: 'horned viper, cerastes, sand viper, horned asp, Cerastes cornutus',\n",
              " 67: 'diamondback, diamondback rattlesnake, Crotalus adamanteus',\n",
              " 68: 'sidewinder, horned rattlesnake, Crotalus cerastes',\n",
              " 69: 'trilobite',\n",
              " 70: 'harvestman, daddy longlegs, Phalangium opilio',\n",
              " 71: 'scorpion',\n",
              " 72: 'black and gold garden spider, Argiope aurantia',\n",
              " 73: 'barn spider, Araneus cavaticus',\n",
              " 74: 'garden spider, Aranea diademata',\n",
              " 75: 'black widow, Latrodectus mactans',\n",
              " 76: 'tarantula',\n",
              " 77: 'wolf spider, hunting spider',\n",
              " 78: 'tick',\n",
              " 79: 'centipede',\n",
              " 80: 'black grouse',\n",
              " 81: 'ptarmigan',\n",
              " 82: 'ruffed grouse, partridge, Bonasa umbellus',\n",
              " 83: 'prairie chicken, prairie grouse, prairie fowl',\n",
              " 84: 'peacock',\n",
              " 85: 'quail',\n",
              " 86: 'partridge',\n",
              " 87: 'African grey, African gray, Psittacus erithacus',\n",
              " 88: 'macaw',\n",
              " 89: 'sulphur-crested cockatoo, Kakatoe galerita, Cacatua galerita',\n",
              " 90: 'lorikeet',\n",
              " 91: 'coucal',\n",
              " 92: 'bee eater',\n",
              " 93: 'hornbill',\n",
              " 94: 'hummingbird',\n",
              " 95: 'jacamar',\n",
              " 96: 'toucan',\n",
              " 97: 'drake',\n",
              " 98: 'red-breasted merganser, Mergus serrator',\n",
              " 99: 'goose',\n",
              " 100: 'black swan, Cygnus atratus',\n",
              " 101: 'tusker',\n",
              " 102: 'echidna, spiny anteater, anteater',\n",
              " 103: 'platypus, duckbill, duckbilled platypus, duck-billed platypus, Ornithorhynchus anatinus',\n",
              " 104: 'wallaby, brush kangaroo',\n",
              " 105: 'koala, koala bear, kangaroo bear, native bear, Phascolarctos cinereus',\n",
              " 106: 'wombat',\n",
              " 107: 'jellyfish',\n",
              " 108: 'sea anemone, anemone',\n",
              " 109: 'brain coral',\n",
              " 110: 'flatworm, platyhelminth',\n",
              " 111: 'nematode, nematode worm, roundworm',\n",
              " 112: 'conch',\n",
              " 113: 'snail',\n",
              " 114: 'slug',\n",
              " 115: 'sea slug, nudibranch',\n",
              " 116: 'chiton, coat-of-mail shell, sea cradle, polyplacophore',\n",
              " 117: 'chambered nautilus, pearly nautilus, nautilus',\n",
              " 118: 'Dungeness crab, Cancer magister',\n",
              " 119: 'rock crab, Cancer irroratus',\n",
              " 120: 'fiddler crab',\n",
              " 121: 'king crab, Alaska crab, Alaskan king crab, Alaska king crab, Paralithodes camtschatica',\n",
              " 122: 'American lobster, Northern lobster, Maine lobster, Homarus americanus',\n",
              " 123: 'spiny lobster, langouste, rock lobster, crawfish, crayfish, sea crawfish',\n",
              " 124: 'crayfish, crawfish, crawdad, crawdaddy',\n",
              " 125: 'hermit crab',\n",
              " 126: 'isopod',\n",
              " 127: 'white stork, Ciconia ciconia',\n",
              " 128: 'black stork, Ciconia nigra',\n",
              " 129: 'spoonbill',\n",
              " 130: 'flamingo',\n",
              " 131: 'little blue heron, Egretta caerulea',\n",
              " 132: 'American egret, great white heron, Egretta albus',\n",
              " 133: 'bittern',\n",
              " 134: 'crane',\n",
              " 135: 'limpkin, Aramus pictus',\n",
              " 136: 'European gallinule, Porphyrio porphyrio',\n",
              " 137: 'American coot, marsh hen, mud hen, water hen, Fulica americana',\n",
              " 138: 'bustard',\n",
              " 139: 'ruddy turnstone, Arenaria interpres',\n",
              " 140: 'red-backed sandpiper, dunlin, Erolia alpina',\n",
              " 141: 'redshank, Tringa totanus',\n",
              " 142: 'dowitcher',\n",
              " 143: 'oystercatcher, oyster catcher',\n",
              " 144: 'pelican',\n",
              " 145: 'king penguin, Aptenodytes patagonica',\n",
              " 146: 'albatross, mollymawk',\n",
              " 147: 'grey whale, gray whale, devilfish, Eschrichtius gibbosus, Eschrichtius robustus',\n",
              " 148: 'killer whale, killer, orca, grampus, sea wolf, Orcinus orca',\n",
              " 149: 'dugong, Dugong dugon',\n",
              " 150: 'sea lion',\n",
              " 151: 'Chihuahua',\n",
              " 152: 'Japanese spaniel',\n",
              " 153: 'Maltese dog, Maltese terrier, Maltese',\n",
              " 154: 'Pekinese, Pekingese, Peke',\n",
              " 155: 'Shih-Tzu',\n",
              " 156: 'Blenheim spaniel',\n",
              " 157: 'papillon',\n",
              " 158: 'toy terrier',\n",
              " 159: 'Rhodesian ridgeback',\n",
              " 160: 'Afghan hound, Afghan',\n",
              " 161: 'basset, basset hound',\n",
              " 162: 'beagle',\n",
              " 163: 'bloodhound, sleuthhound',\n",
              " 164: 'bluetick',\n",
              " 165: 'black-and-tan coonhound',\n",
              " 166: 'Walker hound, Walker foxhound',\n",
              " 167: 'English foxhound',\n",
              " 168: 'redbone',\n",
              " 169: 'borzoi, Russian wolfhound',\n",
              " 170: 'Irish wolfhound',\n",
              " 171: 'Italian greyhound',\n",
              " 172: 'whippet',\n",
              " 173: 'Ibizan hound, Ibizan Podenco',\n",
              " 174: 'Norwegian elkhound, elkhound',\n",
              " 175: 'otterhound, otter hound',\n",
              " 176: 'Saluki, gazelle hound',\n",
              " 177: 'Scottish deerhound, deerhound',\n",
              " 178: 'Weimaraner',\n",
              " 179: 'Staffordshire bullterrier, Staffordshire bull terrier',\n",
              " 180: 'American Staffordshire terrier, Staffordshire terrier, American pit bull terrier, pit bull terrier',\n",
              " 181: 'Bedlington terrier',\n",
              " 182: 'Border terrier',\n",
              " 183: 'Kerry blue terrier',\n",
              " 184: 'Irish terrier',\n",
              " 185: 'Norfolk terrier',\n",
              " 186: 'Norwich terrier',\n",
              " 187: 'Yorkshire terrier',\n",
              " 188: 'wire-haired fox terrier',\n",
              " 189: 'Lakeland terrier',\n",
              " 190: 'Sealyham terrier, Sealyham',\n",
              " 191: 'Airedale, Airedale terrier',\n",
              " 192: 'cairn, cairn terrier',\n",
              " 193: 'Australian terrier',\n",
              " 194: 'Dandie Dinmont, Dandie Dinmont terrier',\n",
              " 195: 'Boston bull, Boston terrier',\n",
              " 196: 'miniature schnauzer',\n",
              " 197: 'giant schnauzer',\n",
              " 198: 'standard schnauzer',\n",
              " 199: 'Scotch terrier, Scottish terrier, Scottie',\n",
              " 200: 'Tibetan terrier, chrysanthemum dog',\n",
              " 201: 'silky terrier, Sydney silky',\n",
              " 202: 'soft-coated wheaten terrier',\n",
              " 203: 'West Highland white terrier',\n",
              " 204: 'Lhasa, Lhasa apso',\n",
              " 205: 'flat-coated retriever',\n",
              " 206: 'curly-coated retriever',\n",
              " 207: 'golden retriever',\n",
              " 208: 'Labrador retriever',\n",
              " 209: 'Chesapeake Bay retriever',\n",
              " 210: 'German short-haired pointer',\n",
              " 211: 'vizsla, Hungarian pointer',\n",
              " 212: 'English setter',\n",
              " 213: 'Irish setter, red setter',\n",
              " 214: 'Gordon setter',\n",
              " 215: 'Brittany spaniel',\n",
              " 216: 'clumber, clumber spaniel',\n",
              " 217: 'English springer, English springer spaniel',\n",
              " 218: 'Welsh springer spaniel',\n",
              " 219: 'cocker spaniel, English cocker spaniel, cocker',\n",
              " 220: 'Sussex spaniel',\n",
              " 221: 'Irish water spaniel',\n",
              " 222: 'kuvasz',\n",
              " 223: 'schipperke',\n",
              " 224: 'groenendael',\n",
              " 225: 'malinois',\n",
              " 226: 'briard',\n",
              " 227: 'kelpie',\n",
              " 228: 'komondor',\n",
              " 229: 'Old English sheepdog, bobtail',\n",
              " 230: 'Shetland sheepdog, Shetland sheep dog, Shetland',\n",
              " 231: 'collie',\n",
              " 232: 'Border collie',\n",
              " 233: 'Bouvier des Flandres, Bouviers des Flandres',\n",
              " 234: 'Rottweiler',\n",
              " 235: 'German shepherd, German shepherd dog, German police dog, alsatian',\n",
              " 236: 'Doberman, Doberman pinscher',\n",
              " 237: 'miniature pinscher',\n",
              " 238: 'Greater Swiss Mountain dog',\n",
              " 239: 'Bernese mountain dog',\n",
              " 240: 'Appenzeller',\n",
              " 241: 'EntleBucher',\n",
              " 242: 'boxer',\n",
              " 243: 'bull mastiff',\n",
              " 244: 'Tibetan mastiff',\n",
              " 245: 'French bulldog',\n",
              " 246: 'Great Dane',\n",
              " 247: 'Saint Bernard, St Bernard',\n",
              " 248: 'Eskimo dog, husky',\n",
              " 249: 'malamute, malemute, Alaskan malamute',\n",
              " 250: 'Siberian husky',\n",
              " 251: 'dalmatian, coach dog, carriage dog',\n",
              " 252: 'affenpinscher, monkey pinscher, monkey dog',\n",
              " 253: 'basenji',\n",
              " 254: 'pug, pug-dog',\n",
              " 255: 'Leonberg',\n",
              " 256: 'Newfoundland, Newfoundland dog',\n",
              " 257: 'Great Pyrenees',\n",
              " 258: 'Samoyed, Samoyede',\n",
              " 259: 'Pomeranian',\n",
              " 260: 'chow, chow chow',\n",
              " 261: 'keeshond',\n",
              " 262: 'Brabancon griffon',\n",
              " 263: 'Pembroke, Pembroke Welsh corgi',\n",
              " 264: 'Cardigan, Cardigan Welsh corgi',\n",
              " 265: 'toy poodle',\n",
              " 266: 'miniature poodle',\n",
              " 267: 'standard poodle',\n",
              " 268: 'Mexican hairless',\n",
              " 269: 'timber wolf, grey wolf, gray wolf, Canis lupus',\n",
              " 270: 'white wolf, Arctic wolf, Canis lupus tundrarum',\n",
              " 271: 'red wolf, maned wolf, Canis rufus, Canis niger',\n",
              " 272: 'coyote, prairie wolf, brush wolf, Canis latrans',\n",
              " 273: 'dingo, warrigal, warragal, Canis dingo',\n",
              " 274: 'dhole, Cuon alpinus',\n",
              " 275: 'African hunting dog, hyena dog, Cape hunting dog, Lycaon pictus',\n",
              " 276: 'hyena, hyaena',\n",
              " 277: 'red fox, Vulpes vulpes',\n",
              " 278: 'kit fox, Vulpes macrotis',\n",
              " 279: 'Arctic fox, white fox, Alopex lagopus',\n",
              " 280: 'grey fox, gray fox, Urocyon cinereoargenteus',\n",
              " 281: 'tabby, tabby cat',\n",
              " 282: 'tiger cat',\n",
              " 283: 'Persian cat',\n",
              " 284: 'Siamese cat, Siamese',\n",
              " 285: 'Egyptian cat',\n",
              " 286: 'cougar, puma, catamount, mountain lion, painter, panther, Felis concolor',\n",
              " 287: 'lynx, catamount',\n",
              " 288: 'leopard, Panthera pardus',\n",
              " 289: 'snow leopard, ounce, Panthera uncia',\n",
              " 290: 'jaguar, panther, Panthera onca, Felis onca',\n",
              " 291: 'lion, king of beasts, Panthera leo',\n",
              " 292: 'tiger, Panthera tigris',\n",
              " 293: 'cheetah, chetah, Acinonyx jubatus',\n",
              " 294: 'brown bear, bruin, Ursus arctos',\n",
              " 295: 'American black bear, black bear, Ursus americanus, Euarctos americanus',\n",
              " 296: 'ice bear, polar bear, Ursus Maritimus, Thalarctos maritimus',\n",
              " 297: 'sloth bear, Melursus ursinus, Ursus ursinus',\n",
              " 298: 'mongoose',\n",
              " 299: 'meerkat, mierkat',\n",
              " 300: 'tiger beetle',\n",
              " 301: 'ladybug, ladybeetle, lady beetle, ladybird, ladybird beetle',\n",
              " 302: 'ground beetle, carabid beetle',\n",
              " 303: 'long-horned beetle, longicorn, longicorn beetle',\n",
              " 304: 'leaf beetle, chrysomelid',\n",
              " 305: 'dung beetle',\n",
              " 306: 'rhinoceros beetle',\n",
              " 307: 'weevil',\n",
              " 308: 'fly',\n",
              " 309: 'bee',\n",
              " 310: 'ant, emmet, pismire',\n",
              " 311: 'grasshopper, hopper',\n",
              " 312: 'cricket',\n",
              " 313: 'walking stick, walkingstick, stick insect',\n",
              " 314: 'cockroach, roach',\n",
              " 315: 'mantis, mantid',\n",
              " 316: 'cicada, cicala',\n",
              " 317: 'leafhopper',\n",
              " 318: 'lacewing, lacewing fly',\n",
              " 319: \"dragonfly, darning needle, devil's darning needle, sewing needle, snake feeder, snake doctor, mosquito hawk, skeeter hawk\",\n",
              " 320: 'damselfly',\n",
              " 321: 'admiral',\n",
              " 322: 'ringlet, ringlet butterfly',\n",
              " 323: 'monarch, monarch butterfly, milkweed butterfly, Danaus plexippus',\n",
              " 324: 'cabbage butterfly',\n",
              " 325: 'sulphur butterfly, sulfur butterfly',\n",
              " 326: 'lycaenid, lycaenid butterfly',\n",
              " 327: 'starfish, sea star',\n",
              " 328: 'sea urchin',\n",
              " 329: 'sea cucumber, holothurian',\n",
              " 330: 'wood rabbit, cottontail, cottontail rabbit',\n",
              " 331: 'hare',\n",
              " 332: 'Angora, Angora rabbit',\n",
              " 333: 'hamster',\n",
              " 334: 'porcupine, hedgehog',\n",
              " 335: 'fox squirrel, eastern fox squirrel, Sciurus niger',\n",
              " 336: 'marmot',\n",
              " 337: 'beaver',\n",
              " 338: 'guinea pig, Cavia cobaya',\n",
              " 339: 'sorrel',\n",
              " 340: 'zebra',\n",
              " 341: 'hog, pig, grunter, squealer, Sus scrofa',\n",
              " 342: 'wild boar, boar, Sus scrofa',\n",
              " 343: 'warthog',\n",
              " 344: 'hippopotamus, hippo, river horse, Hippopotamus amphibius',\n",
              " 345: 'ox',\n",
              " 346: 'water buffalo, water ox, Asiatic buffalo, Bubalus bubalis',\n",
              " 347: 'bison',\n",
              " 348: 'ram, tup',\n",
              " 349: 'bighorn, bighorn sheep, cimarron, Rocky Mountain bighorn, Rocky Mountain sheep, Ovis canadensis',\n",
              " 350: 'ibex, Capra ibex',\n",
              " 351: 'hartebeest',\n",
              " 352: 'impala, Aepyceros melampus',\n",
              " 353: 'gazelle',\n",
              " 354: 'Arabian camel, dromedary, Camelus dromedarius',\n",
              " 355: 'llama',\n",
              " 356: 'weasel',\n",
              " 357: 'mink',\n",
              " 358: 'polecat, fitch, foulmart, foumart, Mustela putorius',\n",
              " 359: 'black-footed ferret, ferret, Mustela nigripes',\n",
              " 360: 'otter',\n",
              " 361: 'skunk, polecat, wood pussy',\n",
              " 362: 'badger',\n",
              " 363: 'armadillo',\n",
              " 364: 'three-toed sloth, ai, Bradypus tridactylus',\n",
              " 365: 'orangutan, orang, orangutang, Pongo pygmaeus',\n",
              " 366: 'gorilla, Gorilla gorilla',\n",
              " 367: 'chimpanzee, chimp, Pan troglodytes',\n",
              " 368: 'gibbon, Hylobates lar',\n",
              " 369: 'siamang, Hylobates syndactylus, Symphalangus syndactylus',\n",
              " 370: 'guenon, guenon monkey',\n",
              " 371: 'patas, hussar monkey, Erythrocebus patas',\n",
              " 372: 'baboon',\n",
              " 373: 'macaque',\n",
              " 374: 'langur',\n",
              " 375: 'colobus, colobus monkey',\n",
              " 376: 'proboscis monkey, Nasalis larvatus',\n",
              " 377: 'marmoset',\n",
              " 378: 'capuchin, ringtail, Cebus capucinus',\n",
              " 379: 'howler monkey, howler',\n",
              " 380: 'titi, titi monkey',\n",
              " 381: 'spider monkey, Ateles geoffroyi',\n",
              " 382: 'squirrel monkey, Saimiri sciureus',\n",
              " 383: 'Madagascar cat, ring-tailed lemur, Lemur catta',\n",
              " 384: 'indri, indris, Indri indri, Indri brevicaudatus',\n",
              " 385: 'Indian elephant, Elephas maximus',\n",
              " 386: 'African elephant, Loxodonta africana',\n",
              " 387: 'lesser panda, red panda, panda, bear cat, cat bear, Ailurus fulgens',\n",
              " 388: 'giant panda, panda, panda bear, coon bear, Ailuropoda melanoleuca',\n",
              " 389: 'barracouta, snoek',\n",
              " 390: 'eel',\n",
              " 391: 'coho, cohoe, coho salmon, blue jack, silver salmon, Oncorhynchus kisutch',\n",
              " 392: 'rock beauty, Holocanthus tricolor',\n",
              " 393: 'anemone fish',\n",
              " 394: 'sturgeon',\n",
              " 395: 'gar, garfish, garpike, billfish, Lepisosteus osseus',\n",
              " 396: 'lionfish',\n",
              " 397: 'puffer, pufferfish, blowfish, globefish',\n",
              " 398: 'abacus',\n",
              " 399: 'abaya',\n",
              " 400: \"academic gown, academic robe, judge's robe\",\n",
              " 401: 'accordion, piano accordion, squeeze box',\n",
              " 402: 'acoustic guitar',\n",
              " 403: 'aircraft carrier, carrier, flattop, attack aircraft carrier',\n",
              " 404: 'airliner',\n",
              " 405: 'airship, dirigible',\n",
              " 406: 'altar',\n",
              " 407: 'ambulance',\n",
              " 408: 'amphibian, amphibious vehicle',\n",
              " 409: 'analog clock',\n",
              " 410: 'apiary, bee house',\n",
              " 411: 'apron',\n",
              " 412: 'ashcan, trash can, garbage can, wastebin, ash bin, ash-bin, ashbin, dustbin, trash barrel, trash bin',\n",
              " 413: 'assault rifle, assault gun',\n",
              " 414: 'backpack, back pack, knapsack, packsack, rucksack, haversack',\n",
              " 415: 'bakery, bakeshop, bakehouse',\n",
              " 416: 'balance beam, beam',\n",
              " 417: 'balloon',\n",
              " 418: 'ballpoint, ballpoint pen, ballpen, Biro',\n",
              " 419: 'Band Aid',\n",
              " 420: 'banjo',\n",
              " 421: 'bannister, banister, balustrade, balusters, handrail',\n",
              " 422: 'barbell',\n",
              " 423: 'barber chair',\n",
              " 424: 'barbershop',\n",
              " 425: 'barn',\n",
              " 426: 'barometer',\n",
              " 427: 'barrel, cask',\n",
              " 428: 'barrow, garden cart, lawn cart, wheelbarrow',\n",
              " 429: 'baseball',\n",
              " 430: 'basketball',\n",
              " 431: 'bassinet',\n",
              " 432: 'bassoon',\n",
              " 433: 'bathing cap, swimming cap',\n",
              " 434: 'bath towel',\n",
              " 435: 'bathtub, bathing tub, bath, tub',\n",
              " 436: 'beach wagon, station wagon, wagon, estate car, beach waggon, station waggon, waggon',\n",
              " 437: 'beacon, lighthouse, beacon light, pharos',\n",
              " 438: 'beaker',\n",
              " 439: 'bearskin, busby, shako',\n",
              " 440: 'beer bottle',\n",
              " 441: 'beer glass',\n",
              " 442: 'bell cote, bell cot',\n",
              " 443: 'bib',\n",
              " 444: 'bicycle-built-for-two, tandem bicycle, tandem',\n",
              " 445: 'bikini, two-piece',\n",
              " 446: 'binder, ring-binder',\n",
              " 447: 'binoculars, field glasses, opera glasses',\n",
              " 448: 'birdhouse',\n",
              " 449: 'boathouse',\n",
              " 450: 'bobsled, bobsleigh, bob',\n",
              " 451: 'bolo tie, bolo, bola tie, bola',\n",
              " 452: 'bonnet, poke bonnet',\n",
              " 453: 'bookcase',\n",
              " 454: 'bookshop, bookstore, bookstall',\n",
              " 455: 'bottlecap',\n",
              " 456: 'bow',\n",
              " 457: 'bow tie, bow-tie, bowtie',\n",
              " 458: 'brass, memorial tablet, plaque',\n",
              " 459: 'brassiere, bra, bandeau',\n",
              " 460: 'breakwater, groin, groyne, mole, bulwark, seawall, jetty',\n",
              " 461: 'breastplate, aegis, egis',\n",
              " 462: 'broom',\n",
              " 463: 'bucket, pail',\n",
              " 464: 'buckle',\n",
              " 465: 'bulletproof vest',\n",
              " 466: 'bullet train, bullet',\n",
              " 467: 'butcher shop, meat market',\n",
              " 468: 'cab, hack, taxi, taxicab',\n",
              " 469: 'caldron, cauldron',\n",
              " 470: 'candle, taper, wax light',\n",
              " 471: 'cannon',\n",
              " 472: 'canoe',\n",
              " 473: 'can opener, tin opener',\n",
              " 474: 'cardigan',\n",
              " 475: 'car mirror',\n",
              " 476: 'carousel, carrousel, merry-go-round, roundabout, whirligig',\n",
              " 477: \"carpenter's kit, tool kit\",\n",
              " 478: 'carton',\n",
              " 479: 'car wheel',\n",
              " 480: 'cash machine, cash dispenser, automated teller machine, automatic teller machine, automated teller, automatic teller, ATM',\n",
              " 481: 'cassette',\n",
              " 482: 'cassette player',\n",
              " 483: 'castle',\n",
              " 484: 'catamaran',\n",
              " 485: 'CD player',\n",
              " 486: 'cello, violoncello',\n",
              " 487: 'cellular telephone, cellular phone, cellphone, cell, mobile phone',\n",
              " 488: 'chain',\n",
              " 489: 'chainlink fence',\n",
              " 490: 'chain mail, ring mail, mail, chain armor, chain armour, ring armor, ring armour',\n",
              " 491: 'chain saw, chainsaw',\n",
              " 492: 'chest',\n",
              " 493: 'chiffonier, commode',\n",
              " 494: 'chime, bell, gong',\n",
              " 495: 'china cabinet, china closet',\n",
              " 496: 'Christmas stocking',\n",
              " 497: 'church, church building',\n",
              " 498: 'cinema, movie theater, movie theatre, movie house, picture palace',\n",
              " 499: 'cleaver, meat cleaver, chopper',\n",
              " 500: 'cliff dwelling',\n",
              " 501: 'cloak',\n",
              " 502: 'clog, geta, patten, sabot',\n",
              " 503: 'cocktail shaker',\n",
              " 504: 'coffee mug',\n",
              " 505: 'coffeepot',\n",
              " 506: 'coil, spiral, volute, whorl, helix',\n",
              " 507: 'combination lock',\n",
              " 508: 'computer keyboard, keypad',\n",
              " 509: 'confectionery, confectionary, candy store',\n",
              " 510: 'container ship, containership, container vessel',\n",
              " 511: 'convertible',\n",
              " 512: 'corkscrew, bottle screw',\n",
              " 513: 'cornet, horn, trumpet, trump',\n",
              " 514: 'cowboy boot',\n",
              " 515: 'cowboy hat, ten-gallon hat',\n",
              " 516: 'cradle',\n",
              " 517: 'crane',\n",
              " 518: 'crash helmet',\n",
              " 519: 'crate',\n",
              " 520: 'crib, cot',\n",
              " 521: 'Crock Pot',\n",
              " 522: 'croquet ball',\n",
              " 523: 'crutch',\n",
              " 524: 'cuirass',\n",
              " 525: 'dam, dike, dyke',\n",
              " 526: 'desk',\n",
              " 527: 'desktop computer',\n",
              " 528: 'dial telephone, dial phone',\n",
              " 529: 'diaper, nappy, napkin',\n",
              " 530: 'digital clock',\n",
              " 531: 'digital watch',\n",
              " 532: 'dining table, board',\n",
              " 533: 'dishrag, dishcloth',\n",
              " 534: 'dishwasher, dish washer, dishwashing machine',\n",
              " 535: 'disk brake, disc brake',\n",
              " 536: 'dock, dockage, docking facility',\n",
              " 537: 'dogsled, dog sled, dog sleigh',\n",
              " 538: 'dome',\n",
              " 539: 'doormat, welcome mat',\n",
              " 540: 'drilling platform, offshore rig',\n",
              " 541: 'drum, membranophone, tympan',\n",
              " 542: 'drumstick',\n",
              " 543: 'dumbbell',\n",
              " 544: 'Dutch oven',\n",
              " 545: 'electric fan, blower',\n",
              " 546: 'electric guitar',\n",
              " 547: 'electric locomotive',\n",
              " 548: 'entertainment center',\n",
              " 549: 'envelope',\n",
              " 550: 'espresso maker',\n",
              " 551: 'face powder',\n",
              " 552: 'feather boa, boa',\n",
              " 553: 'file, file cabinet, filing cabinet',\n",
              " 554: 'fireboat',\n",
              " 555: 'fire engine, fire truck',\n",
              " 556: 'fire screen, fireguard',\n",
              " 557: 'flagpole, flagstaff',\n",
              " 558: 'flute, transverse flute',\n",
              " 559: 'folding chair',\n",
              " 560: 'football helmet',\n",
              " 561: 'forklift',\n",
              " 562: 'fountain',\n",
              " 563: 'fountain pen',\n",
              " 564: 'four-poster',\n",
              " 565: 'freight car',\n",
              " 566: 'French horn, horn',\n",
              " 567: 'frying pan, frypan, skillet',\n",
              " 568: 'fur coat',\n",
              " 569: 'garbage truck, dustcart',\n",
              " 570: 'gasmask, respirator, gas helmet',\n",
              " 571: 'gas pump, gasoline pump, petrol pump, island dispenser',\n",
              " 572: 'goblet',\n",
              " 573: 'go-kart',\n",
              " 574: 'golf ball',\n",
              " 575: 'golfcart, golf cart',\n",
              " 576: 'gondola',\n",
              " 577: 'gong, tam-tam',\n",
              " 578: 'gown',\n",
              " 579: 'grand piano, grand',\n",
              " 580: 'greenhouse, nursery, glasshouse',\n",
              " 581: 'grille, radiator grille',\n",
              " 582: 'grocery store, grocery, food market, market',\n",
              " 583: 'guillotine',\n",
              " 584: 'hair slide',\n",
              " 585: 'hair spray',\n",
              " 586: 'half track',\n",
              " 587: 'hammer',\n",
              " 588: 'hamper',\n",
              " 589: 'hand blower, blow dryer, blow drier, hair dryer, hair drier',\n",
              " 590: 'hand-held computer, hand-held microcomputer',\n",
              " 591: 'handkerchief, hankie, hanky, hankey',\n",
              " 592: 'hard disc, hard disk, fixed disk',\n",
              " 593: 'harmonica, mouth organ, harp, mouth harp',\n",
              " 594: 'harp',\n",
              " 595: 'harvester, reaper',\n",
              " 596: 'hatchet',\n",
              " 597: 'holster',\n",
              " 598: 'home theater, home theatre',\n",
              " 599: 'honeycomb',\n",
              " 600: 'hook, claw',\n",
              " 601: 'hoopskirt, crinoline',\n",
              " 602: 'horizontal bar, high bar',\n",
              " 603: 'horse cart, horse-cart',\n",
              " 604: 'hourglass',\n",
              " 605: 'iPod',\n",
              " 606: 'iron, smoothing iron',\n",
              " 607: \"jack-o'-lantern\",\n",
              " 608: 'jean, blue jean, denim',\n",
              " 609: 'jeep, landrover',\n",
              " 610: 'jersey, T-shirt, tee shirt',\n",
              " 611: 'jigsaw puzzle',\n",
              " 612: 'jinrikisha, ricksha, rickshaw',\n",
              " 613: 'joystick',\n",
              " 614: 'kimono',\n",
              " 615: 'knee pad',\n",
              " 616: 'knot',\n",
              " 617: 'lab coat, laboratory coat',\n",
              " 618: 'ladle',\n",
              " 619: 'lampshade, lamp shade',\n",
              " 620: 'laptop, laptop computer',\n",
              " 621: 'lawn mower, mower',\n",
              " 622: 'lens cap, lens cover',\n",
              " 623: 'letter opener, paper knife, paperknife',\n",
              " 624: 'library',\n",
              " 625: 'lifeboat',\n",
              " 626: 'lighter, light, igniter, ignitor',\n",
              " 627: 'limousine, limo',\n",
              " 628: 'liner, ocean liner',\n",
              " 629: 'lipstick, lip rouge',\n",
              " 630: 'Loafer',\n",
              " 631: 'lotion',\n",
              " 632: 'loudspeaker, speaker, speaker unit, loudspeaker system, speaker system',\n",
              " 633: \"loupe, jeweler's loupe\",\n",
              " 634: 'lumbermill, sawmill',\n",
              " 635: 'magnetic compass',\n",
              " 636: 'mailbag, postbag',\n",
              " 637: 'mailbox, letter box',\n",
              " 638: 'maillot',\n",
              " 639: 'maillot, tank suit',\n",
              " 640: 'manhole cover',\n",
              " 641: 'maraca',\n",
              " 642: 'marimba, xylophone',\n",
              " 643: 'mask',\n",
              " 644: 'matchstick',\n",
              " 645: 'maypole',\n",
              " 646: 'maze, labyrinth',\n",
              " 647: 'measuring cup',\n",
              " 648: 'medicine chest, medicine cabinet',\n",
              " 649: 'megalith, megalithic structure',\n",
              " 650: 'microphone, mike',\n",
              " 651: 'microwave, microwave oven',\n",
              " 652: 'military uniform',\n",
              " 653: 'milk can',\n",
              " 654: 'minibus',\n",
              " 655: 'miniskirt, mini',\n",
              " 656: 'minivan',\n",
              " 657: 'missile',\n",
              " 658: 'mitten',\n",
              " 659: 'mixing bowl',\n",
              " 660: 'mobile home, manufactured home',\n",
              " 661: 'Model T',\n",
              " 662: 'modem',\n",
              " 663: 'monastery',\n",
              " 664: 'monitor',\n",
              " 665: 'moped',\n",
              " 666: 'mortar',\n",
              " 667: 'mortarboard',\n",
              " 668: 'mosque',\n",
              " 669: 'mosquito net',\n",
              " 670: 'motor scooter, scooter',\n",
              " 671: 'mountain bike, all-terrain bike, off-roader',\n",
              " 672: 'mountain tent',\n",
              " 673: 'mouse, computer mouse',\n",
              " 674: 'mousetrap',\n",
              " 675: 'moving van',\n",
              " 676: 'muzzle',\n",
              " 677: 'nail',\n",
              " 678: 'neck brace',\n",
              " 679: 'necklace',\n",
              " 680: 'nipple',\n",
              " 681: 'notebook, notebook computer',\n",
              " 682: 'obelisk',\n",
              " 683: 'oboe, hautboy, hautbois',\n",
              " 684: 'ocarina, sweet potato',\n",
              " 685: 'odometer, hodometer, mileometer, milometer',\n",
              " 686: 'oil filter',\n",
              " 687: 'organ, pipe organ',\n",
              " 688: 'oscilloscope, scope, cathode-ray oscilloscope, CRO',\n",
              " 689: 'overskirt',\n",
              " 690: 'oxcart',\n",
              " 691: 'oxygen mask',\n",
              " 692: 'packet',\n",
              " 693: 'paddle, boat paddle',\n",
              " 694: 'paddlewheel, paddle wheel',\n",
              " 695: 'padlock',\n",
              " 696: 'paintbrush',\n",
              " 697: \"pajama, pyjama, pj's, jammies\",\n",
              " 698: 'palace',\n",
              " 699: 'panpipe, pandean pipe, syrinx',\n",
              " 700: 'paper towel',\n",
              " 701: 'parachute, chute',\n",
              " 702: 'parallel bars, bars',\n",
              " 703: 'park bench',\n",
              " 704: 'parking meter',\n",
              " 705: 'passenger car, coach, carriage',\n",
              " 706: 'patio, terrace',\n",
              " 707: 'pay-phone, pay-station',\n",
              " 708: 'pedestal, plinth, footstall',\n",
              " 709: 'pencil box, pencil case',\n",
              " 710: 'pencil sharpener',\n",
              " 711: 'perfume, essence',\n",
              " 712: 'Petri dish',\n",
              " 713: 'photocopier',\n",
              " 714: 'pick, plectrum, plectron',\n",
              " 715: 'pickelhaube',\n",
              " 716: 'picket fence, paling',\n",
              " 717: 'pickup, pickup truck',\n",
              " 718: 'pier',\n",
              " 719: 'piggy bank, penny bank',\n",
              " 720: 'pill bottle',\n",
              " 721: 'pillow',\n",
              " 722: 'ping-pong ball',\n",
              " 723: 'pinwheel',\n",
              " 724: 'pirate, pirate ship',\n",
              " 725: 'pitcher, ewer',\n",
              " 726: \"plane, carpenter's plane, woodworking plane\",\n",
              " 727: 'planetarium',\n",
              " 728: 'plastic bag',\n",
              " 729: 'plate rack',\n",
              " 730: 'plow, plough',\n",
              " 731: \"plunger, plumber's helper\",\n",
              " 732: 'Polaroid camera, Polaroid Land camera',\n",
              " 733: 'pole',\n",
              " 734: 'police van, police wagon, paddy wagon, patrol wagon, wagon, black Maria',\n",
              " 735: 'poncho',\n",
              " 736: 'pool table, billiard table, snooker table',\n",
              " 737: 'pop bottle, soda bottle',\n",
              " 738: 'pot, flowerpot',\n",
              " 739: \"potter's wheel\",\n",
              " 740: 'power drill',\n",
              " 741: 'prayer rug, prayer mat',\n",
              " 742: 'printer',\n",
              " 743: 'prison, prison house',\n",
              " 744: 'projectile, missile',\n",
              " 745: 'projector',\n",
              " 746: 'puck, hockey puck',\n",
              " 747: 'punching bag, punch bag, punching ball, punchball',\n",
              " 748: 'purse',\n",
              " 749: 'quill, quill pen',\n",
              " 750: 'quilt, comforter, comfort, puff',\n",
              " 751: 'racer, race car, racing car',\n",
              " 752: 'racket, racquet',\n",
              " 753: 'radiator',\n",
              " 754: 'radio, wireless',\n",
              " 755: 'radio telescope, radio reflector',\n",
              " 756: 'rain barrel',\n",
              " 757: 'recreational vehicle, RV, R.V.',\n",
              " 758: 'reel',\n",
              " 759: 'reflex camera',\n",
              " 760: 'refrigerator, icebox',\n",
              " 761: 'remote control, remote',\n",
              " 762: 'restaurant, eating house, eating place, eatery',\n",
              " 763: 'revolver, six-gun, six-shooter',\n",
              " 764: 'rifle',\n",
              " 765: 'rocking chair, rocker',\n",
              " 766: 'rotisserie',\n",
              " 767: 'rubber eraser, rubber, pencil eraser',\n",
              " 768: 'rugby ball',\n",
              " 769: 'rule, ruler',\n",
              " 770: 'running shoe',\n",
              " 771: 'safe',\n",
              " 772: 'safety pin',\n",
              " 773: 'saltshaker, salt shaker',\n",
              " 774: 'sandal',\n",
              " 775: 'sarong',\n",
              " 776: 'sax, saxophone',\n",
              " 777: 'scabbard',\n",
              " 778: 'scale, weighing machine',\n",
              " 779: 'school bus',\n",
              " 780: 'schooner',\n",
              " 781: 'scoreboard',\n",
              " 782: 'screen, CRT screen',\n",
              " 783: 'screw',\n",
              " 784: 'screwdriver',\n",
              " 785: 'seat belt, seatbelt',\n",
              " 786: 'sewing machine',\n",
              " 787: 'shield, buckler',\n",
              " 788: 'shoe shop, shoe-shop, shoe store',\n",
              " 789: 'shoji',\n",
              " 790: 'shopping basket',\n",
              " 791: 'shopping cart',\n",
              " 792: 'shovel',\n",
              " 793: 'shower cap',\n",
              " 794: 'shower curtain',\n",
              " 795: 'ski',\n",
              " 796: 'ski mask',\n",
              " 797: 'sleeping bag',\n",
              " 798: 'slide rule, slipstick',\n",
              " 799: 'sliding door',\n",
              " 800: 'slot, one-armed bandit',\n",
              " 801: 'snorkel',\n",
              " 802: 'snowmobile',\n",
              " 803: 'snowplow, snowplough',\n",
              " 804: 'soap dispenser',\n",
              " 805: 'soccer ball',\n",
              " 806: 'sock',\n",
              " 807: 'solar dish, solar collector, solar furnace',\n",
              " 808: 'sombrero',\n",
              " 809: 'soup bowl',\n",
              " 810: 'space bar',\n",
              " 811: 'space heater',\n",
              " 812: 'space shuttle',\n",
              " 813: 'spatula',\n",
              " 814: 'speedboat',\n",
              " 815: \"spider web, spider's web\",\n",
              " 816: 'spindle',\n",
              " 817: 'sports car, sport car',\n",
              " 818: 'spotlight, spot',\n",
              " 819: 'stage',\n",
              " 820: 'steam locomotive',\n",
              " 821: 'steel arch bridge',\n",
              " 822: 'steel drum',\n",
              " 823: 'stethoscope',\n",
              " 824: 'stole',\n",
              " 825: 'stone wall',\n",
              " 826: 'stopwatch, stop watch',\n",
              " 827: 'stove',\n",
              " 828: 'strainer',\n",
              " 829: 'streetcar, tram, tramcar, trolley, trolley car',\n",
              " 830: 'stretcher',\n",
              " 831: 'studio couch, day bed',\n",
              " 832: 'stupa, tope',\n",
              " 833: 'submarine, pigboat, sub, U-boat',\n",
              " 834: 'suit, suit of clothes',\n",
              " 835: 'sundial',\n",
              " 836: 'sunglass',\n",
              " 837: 'sunglasses, dark glasses, shades',\n",
              " 838: 'sunscreen, sunblock, sun blocker',\n",
              " 839: 'suspension bridge',\n",
              " 840: 'swab, swob, mop',\n",
              " 841: 'sweatshirt',\n",
              " 842: 'swimming trunks, bathing trunks',\n",
              " 843: 'swing',\n",
              " 844: 'switch, electric switch, electrical switch',\n",
              " 845: 'syringe',\n",
              " 846: 'table lamp',\n",
              " 847: 'tank, army tank, armored combat vehicle, armoured combat vehicle',\n",
              " 848: 'tape player',\n",
              " 849: 'teapot',\n",
              " 850: 'teddy, teddy bear',\n",
              " 851: 'television, television system',\n",
              " 852: 'tennis ball',\n",
              " 853: 'thatch, thatched roof',\n",
              " 854: 'theater curtain, theatre curtain',\n",
              " 855: 'thimble',\n",
              " 856: 'thresher, thrasher, threshing machine',\n",
              " 857: 'throne',\n",
              " 858: 'tile roof',\n",
              " 859: 'toaster',\n",
              " 860: 'tobacco shop, tobacconist shop, tobacconist',\n",
              " 861: 'toilet seat',\n",
              " 862: 'torch',\n",
              " 863: 'totem pole',\n",
              " 864: 'tow truck, tow car, wrecker',\n",
              " 865: 'toyshop',\n",
              " 866: 'tractor',\n",
              " 867: 'trailer truck, tractor trailer, trucking rig, rig, articulated lorry, semi',\n",
              " 868: 'tray',\n",
              " 869: 'trench coat',\n",
              " 870: 'tricycle, trike, velocipede',\n",
              " 871: 'trimaran',\n",
              " 872: 'tripod',\n",
              " 873: 'triumphal arch',\n",
              " 874: 'trolleybus, trolley coach, trackless trolley',\n",
              " 875: 'trombone',\n",
              " 876: 'tub, vat',\n",
              " 877: 'turnstile',\n",
              " 878: 'typewriter keyboard',\n",
              " 879: 'umbrella',\n",
              " 880: 'unicycle, monocycle',\n",
              " 881: 'upright, upright piano',\n",
              " 882: 'vacuum, vacuum cleaner',\n",
              " 883: 'vase',\n",
              " 884: 'vault',\n",
              " 885: 'velvet',\n",
              " 886: 'vending machine',\n",
              " 887: 'vestment',\n",
              " 888: 'viaduct',\n",
              " 889: 'violin, fiddle',\n",
              " 890: 'volleyball',\n",
              " 891: 'waffle iron',\n",
              " 892: 'wall clock',\n",
              " 893: 'wallet, billfold, notecase, pocketbook',\n",
              " 894: 'wardrobe, closet, press',\n",
              " 895: 'warplane, military plane',\n",
              " 896: 'washbasin, handbasin, washbowl, lavabo, wash-hand basin',\n",
              " 897: 'washer, automatic washer, washing machine',\n",
              " 898: 'water bottle',\n",
              " 899: 'water jug',\n",
              " 900: 'water tower',\n",
              " 901: 'whiskey jug',\n",
              " 902: 'whistle',\n",
              " 903: 'wig',\n",
              " 904: 'window screen',\n",
              " 905: 'window shade',\n",
              " 906: 'Windsor tie',\n",
              " 907: 'wine bottle',\n",
              " 908: 'wing',\n",
              " 909: 'wok',\n",
              " 910: 'wooden spoon',\n",
              " 911: 'wool, woolen, woollen',\n",
              " 912: 'worm fence, snake fence, snake-rail fence, Virginia fence',\n",
              " 913: 'wreck',\n",
              " 914: 'yawl',\n",
              " 915: 'yurt',\n",
              " 916: 'web site, website, internet site, site',\n",
              " 917: 'comic book',\n",
              " 918: 'crossword puzzle, crossword',\n",
              " 919: 'street sign',\n",
              " 920: 'traffic light, traffic signal, stoplight',\n",
              " 921: 'book jacket, dust cover, dust jacket, dust wrapper',\n",
              " 922: 'menu',\n",
              " 923: 'plate',\n",
              " 924: 'guacamole',\n",
              " 925: 'consomme',\n",
              " 926: 'hot pot, hotpot',\n",
              " 927: 'trifle',\n",
              " 928: 'ice cream, icecream',\n",
              " 929: 'ice lolly, lolly, lollipop, popsicle',\n",
              " 930: 'French loaf',\n",
              " 931: 'bagel, beigel',\n",
              " 932: 'pretzel',\n",
              " 933: 'cheeseburger',\n",
              " 934: 'hotdog, hot dog, red hot',\n",
              " 935: 'mashed potato',\n",
              " 936: 'head cabbage',\n",
              " 937: 'broccoli',\n",
              " 938: 'cauliflower',\n",
              " 939: 'zucchini, courgette',\n",
              " 940: 'spaghetti squash',\n",
              " 941: 'acorn squash',\n",
              " 942: 'butternut squash',\n",
              " 943: 'cucumber, cuke',\n",
              " 944: 'artichoke, globe artichoke',\n",
              " 945: 'bell pepper',\n",
              " 946: 'cardoon',\n",
              " 947: 'mushroom',\n",
              " 948: 'Granny Smith',\n",
              " 949: 'strawberry',\n",
              " 950: 'orange',\n",
              " 951: 'lemon',\n",
              " 952: 'fig',\n",
              " 953: 'pineapple, ananas',\n",
              " 954: 'banana',\n",
              " 955: 'jackfruit, jak, jack',\n",
              " 956: 'custard apple',\n",
              " 957: 'pomegranate',\n",
              " 958: 'hay',\n",
              " 959: 'carbonara',\n",
              " 960: 'chocolate sauce, chocolate syrup',\n",
              " 961: 'dough',\n",
              " 962: 'meat loaf, meatloaf',\n",
              " 963: 'pizza, pizza pie',\n",
              " 964: 'potpie',\n",
              " 965: 'burrito',\n",
              " 966: 'red wine',\n",
              " 967: 'espresso',\n",
              " 968: 'cup',\n",
              " 969: 'eggnog',\n",
              " 970: 'alp',\n",
              " 971: 'bubble',\n",
              " 972: 'cliff, drop, drop-off',\n",
              " 973: 'coral reef',\n",
              " 974: 'geyser',\n",
              " 975: 'lakeside, lakeshore',\n",
              " 976: 'promontory, headland, head, foreland',\n",
              " 977: 'sandbar, sand bar',\n",
              " 978: 'seashore, coast, seacoast, sea-coast',\n",
              " 979: 'valley, vale',\n",
              " 980: 'volcano',\n",
              " 981: 'ballplayer, baseball player',\n",
              " 982: 'groom, bridegroom',\n",
              " 983: 'scuba diver',\n",
              " 984: 'rapeseed',\n",
              " 985: 'daisy',\n",
              " 986: \"yellow lady's slipper, yellow lady-slipper, Cypripedium calceolus, Cypripedium parviflorum\",\n",
              " 987: 'corn',\n",
              " 988: 'acorn',\n",
              " 989: 'hip, rose hip, rosehip',\n",
              " 990: 'buckeye, horse chestnut, conker',\n",
              " 991: 'coral fungus',\n",
              " 992: 'agaric',\n",
              " 993: 'gyromitra',\n",
              " 994: 'stinkhorn, carrion fungus',\n",
              " 995: 'earthstar',\n",
              " 996: 'hen-of-the-woods, hen of the woods, Polyporus frondosus, Grifola frondosa',\n",
              " 997: 'bolete',\n",
              " 998: 'ear, spike, capitulum',\n",
              " 999: 'toilet tissue, toilet paper, bathroom tissue'}"
            ]
          },
          "metadata": {},
          "execution_count": 22
        }
      ],
      "source": [
        "labels"
      ]
    },
    {
      "cell_type": "code",
      "execution_count": 23,
      "metadata": {
        "colab": {
          "base_uri": "https://localhost:8080/",
          "height": 355
        },
        "id": "cetMFwBQngCQ",
        "outputId": "5d4c1f03-495a-482f-e4bf-f2fda68ab996"
      },
      "outputs": [
        {
          "output_type": "execute_result",
          "data": {
            "text/plain": [
              "(array([ 26.,  92., 189., 193., 175., 159., 103.,  51.,   9.,   3.]),\n",
              " array([-7.3525176, -5.5738983, -3.7952785, -2.016659 , -0.2380395,\n",
              "         1.54058  ,  3.3191996,  5.0978193,  6.8764386,  8.655058 ,\n",
              "        10.433678 ], dtype=float32),\n",
              " <a list of 10 Patch objects>)"
            ]
          },
          "metadata": {},
          "execution_count": 23
        },
        {
          "output_type": "display_data",
          "data": {
            "text/plain": [
              "<Figure size 432x288 with 1 Axes>"
            ],
            "image/png": "[encoded data removed]"
          },
          "metadata": {
            "needs_background": "light"
          }
        }
      ],
      "source": [
        "plt.hist(X[0])"
      ]
    },
    {
      "cell_type": "code",
      "execution_count": 24,
      "metadata": {
        "id": "zBt4rsdIefV_"
      },
      "outputs": [],
      "source": [
        "X = GPU_data(X)\n",
        "Y = GPU_data(Y)"
      ]
    },
    {
      "cell_type": "code",
      "execution_count": 25,
      "metadata": {
        "id": "m4BlYG-CgC2z"
      },
      "outputs": [],
      "source": [
        "def softmax(x):\n",
        "    s1 = torch.exp(x - torch.max(x,1)[0][:,None])\n",
        "    s = s1 / s1.sum(1)[:,None]\n",
        "    return s"
      ]
    },
    {
      "cell_type": "code",
      "execution_count": 26,
      "metadata": {
        "id": "XZ-UV8W_c_9o"
      },
      "outputs": [],
      "source": [
        "def cross_entropy(outputs, labels):            \n",
        "    return -torch.sum(softmax(outputs).log()[range(outputs.size()[0]), labels.long()])/outputs.size()[0]  "
      ]
    },
    {
      "cell_type": "code",
      "execution_count": 27,
      "metadata": {
        "id": "wtL1kZcZICVP"
      },
      "outputs": [],
      "source": [
        "def randn_trunc(s): #Truncated Normal Random Numbers\n",
        "    mu = 0 \n",
        "    sigma = 0.1\n",
        "    R = stats.truncnorm((-2*sigma - mu) / sigma, (2*sigma - mu) / sigma, loc=mu, scale=sigma)\n",
        "    return R.rvs(s)"
      ]
    },
    {
      "cell_type": "code",
      "execution_count": 28,
      "metadata": {
        "id": "wPQjN4JwYHAz"
      },
      "outputs": [],
      "source": [
        "def Truncated_Normal(size):\n",
        "\n",
        "    u1 = torch.rand(size)*(1-np.exp(-2)) + np.exp(-2)\n",
        "    u2 = torch.rand(size)\n",
        "    z  = torch.sqrt(-2*torch.log(u1)) * torch.cos(2*np.pi*u2)\n",
        "\n",
        "    return z"
      ]
    },
    {
      "cell_type": "code",
      "execution_count": 29,
      "metadata": {
        "id": "LW3ttVcq1sI9"
      },
      "outputs": [],
      "source": [
        "def acc(out,y):\n",
        "    with torch.no_grad():\n",
        "        return (torch.sum(torch.max(out,1)[1] == y).item())/y.shape[0]"
      ]
    },
    {
      "cell_type": "code",
      "execution_count": null,
      "metadata": {
        "colab": {
          "background_save": true
        },
        "id": "5UXgio04fyvz"
      },
      "outputs": [],
      "source": [
        "X.shape"
      ]
    },
    {
      "cell_type": "code",
      "execution_count": 30,
      "metadata": {
        "id": "x79Sie8XKPOC"
      },
      "outputs": [],
      "source": [
        "def get_batch(mode):\n",
        "    b = c.b\n",
        "    if mode == \"train\":\n",
        "        r = np.random.randint(X.shape[0]-b) \n",
        "        x = X[r:r+b,:]\n",
        "        y = Y[r:r+b]\n",
        "    elif mode == \"test\":\n",
        "        r = np.random.randint(X_test.shape[0]-b)\n",
        "        x = X_test[r:r+b,:]\n",
        "        y = Y_test[r:r+b]\n",
        "    return x,y"
      ]
    },
    {
      "cell_type": "code",
      "execution_count": 31,
      "metadata": {
        "id": "vXOr9aM8A8P-"
      },
      "outputs": [],
      "source": [
        "def model(x,w):\n",
        "\n",
        "    return x@w[0]"
      ]
    },
    {
      "cell_type": "code",
      "execution_count": 32,
      "metadata": {
        "id": "uzRsuDek9Fve"
      },
      "outputs": [],
      "source": [
        "def make_plots():\n",
        "    \n",
        "    acc_train = acc(model(x,w),y)\n",
        "    \n",
        "    # xt,yt = get_batch('test')\n",
        "\n",
        "    # acc_test = acc(model(xt,w),yt)\n",
        "\n",
        "    wb.log({\"acc_train\": acc_train})"
      ]
    },
    {
      "cell_type": "code",
      "execution_count": null,
      "metadata": {
        "colab": {
          "background_save": true,
          "base_uri": "https://localhost:8080/",
          "height": 217
        },
        "id": "WANJibeUNghZ",
        "outputId": "23e5d5f4-a2e0-4752-c11c-0e92b1515f9f"
      },
      "outputs": [
        {
          "output_type": "stream",
          "name": "stderr",
          "text": [
            "ERROR:wandb.jupyter:Failed to detect the name of this notebook, you can set it manually with the WANDB_NOTEBOOK_NAME environment variable to enable code saving.\n"
          ]
        },
        {
          "output_type": "display_data",
          "data": {
            "text/plain": [
              "<IPython.core.display.Javascript object>"
            ],
            "application/javascript": [
              "\n",
              "        window._wandbApiKey = new Promise((resolve, reject) => {\n",
              "            function loadScript(url) {\n",
              "            return new Promise(function(resolve, reject) {\n",
              "                let newScript = document.createElement(\"script\");\n",
              "                newScript.onerror = reject;\n",
              "                newScript.onload = resolve;\n",
              "                document.body.appendChild(newScript);\n",
              "                newScript.src = url;\n",
              "            });\n",
              "            }\n",
              "            loadScript(\"https://cdn.jsdelivr.net/npm/postmate/build/postmate.min.js\").then(() => {\n",
              "            const iframe = document.createElement('iframe')\n",
              "            iframe.style.cssText = \"width:0;height:0;border:none\"\n",
              "            document.body.appendChild(iframe)\n",
              "            const handshake = new Postmate({\n",
              "                container: iframe,\n",
              "                url: 'https://wandb.ai/authorize'\n",
              "            });\n",
              "            const timeout = setTimeout(() => reject(\"Couldn't auto authenticate\"), 5000)\n",
              "            handshake.then(function(child) {\n",
              "                child.on('authorize', data => {\n",
              "                    clearTimeout(timeout)\n",
              "                    resolve(data)\n",
              "                });\n",
              "            });\n",
              "            })\n",
              "        });\n",
              "    "
            ]
          },
          "metadata": {}
        },
        {
          "output_type": "stream",
          "name": "stderr",
          "text": [
            "\u001b[34m\u001b[1mwandb\u001b[0m: Logging into wandb.ai. (Learn how to deploy a W&B server locally: https://wandb.me/wandb-server)\n",
            "\u001b[34m\u001b[1mwandb\u001b[0m: You can find your API key in your browser here: https://wandb.ai/authorize\n",
            "wandb: Paste an API key from your profile and hit enter, or press ctrl+c to quit: "
          ]
        },
        {
          "name": "stdout",
          "output_type": "stream",
          "text": [
            "··········\n"
          ]
        },
        {
          "output_type": "stream",
          "name": "stderr",
          "text": [
            "\u001b[34m\u001b[1mwandb\u001b[0m: \u001b[32m\u001b[41mERROR\u001b[0m API key must be 40 characters long, yours was 20\n"
          ]
        },
        {
          "output_type": "display_data",
          "data": {
            "text/plain": [
              "<IPython.core.display.Javascript object>"
            ],
            "application/javascript": [
              "\n",
              "        window._wandbApiKey = new Promise((resolve, reject) => {\n",
              "            function loadScript(url) {\n",
              "            return new Promise(function(resolve, reject) {\n",
              "                let newScript = document.createElement(\"script\");\n",
              "                newScript.onerror = reject;\n",
              "                newScript.onload = resolve;\n",
              "                document.body.appendChild(newScript);\n",
              "                newScript.src = url;\n",
              "            });\n",
              "            }\n",
              "            loadScript(\"https://cdn.jsdelivr.net/npm/postmate/build/postmate.min.js\").then(() => {\n",
              "            const iframe = document.createElement('iframe')\n",
              "            iframe.style.cssText = \"width:0;height:0;border:none\"\n",
              "            document.body.appendChild(iframe)\n",
              "            const handshake = new Postmate({\n",
              "                container: iframe,\n",
              "                url: 'https://wandb.ai/authorize'\n",
              "            });\n",
              "            const timeout = setTimeout(() => reject(\"Couldn't auto authenticate\"), 5000)\n",
              "            handshake.then(function(child) {\n",
              "                child.on('authorize', data => {\n",
              "                    clearTimeout(timeout)\n",
              "                    resolve(data)\n",
              "                });\n",
              "            });\n",
              "            })\n",
              "        });\n",
              "    "
            ]
          },
          "metadata": {}
        },
        {
          "output_type": "stream",
          "name": "stderr",
          "text": [
            "\u001b[34m\u001b[1mwandb\u001b[0m: Logging into wandb.ai. (Learn how to deploy a W&B server locally: https://wandb.me/wandb-server)\n",
            "\u001b[34m\u001b[1mwandb\u001b[0m: You can find your API key in your browser here: https://wandb.ai/authorize\n",
            "wandb: Paste an API key from your profile and hit enter, or press ctrl+c to quit: "
          ]
        }
      ],
      "source": [
        "wb.init(project=\"Linear_Model_Photo_1\");\n",
        "c = wb.config\n",
        "\n",
        "c.h = 0.001\n",
        "c.b = 32\n",
        "c.epochs = 100000\n",
        "\n",
        "w = [GPU(Truncated_Normal((1000,2)))]\n",
        "\n",
        "optimizer = torch.optim.Adam(w, lr=c.h)  \n",
        "\n",
        "for i in range(c.epochs):\n",
        "\n",
        "    x,y = get_batch('train')\n",
        "\n",
        "    loss = cross_entropy(softmax(model(x,w)),y)\n",
        "\n",
        "    optimizer.zero_grad()\n",
        "    loss.backward()\n",
        "    optimizer.step()\n",
        "   \n",
        "    wb.log({\"loss\": loss})\n",
        "\n",
        "    make_plots()\n"
      ]
    },
    {
      "cell_type": "markdown",
      "metadata": {
        "id": "sI--oRHS7Olk"
      },
      "source": [
        "https://tensorspace.org/"
      ]
    },
    {
      "cell_type": "code",
      "execution_count": null,
      "metadata": {
        "colab": {
          "background_save": true
        },
        "id": "VGdS4Ccv3ToX"
      },
      "outputs": [],
      "source": []
    },
    {
      "cell_type": "markdown",
      "source": [
        "#It might be the schools WIFI but it will only let me run it twice."
      ],
      "metadata": {
        "id": "3Vub0PQ6nBzC"
      }
    },
    {
      "cell_type": "code",
      "execution_count": null,
      "metadata": {
        "id": "cogMnVmoY6fs"
      },
      "outputs": [],
      "source": []
    },
    {
      "cell_type": "code",
      "execution_count": null,
      "metadata": {
        "id": "numPOTfxY6h8"
      },
      "outputs": [],
      "source": []
    },
    {
      "cell_type": "code",
      "execution_count": null,
      "metadata": {
        "id": "9H5XxYs2Y6jl"
      },
      "outputs": [],
      "source": []
    },
    {
      "cell_type": "code",
      "execution_count": null,
      "metadata": {
        "id": "dnuZwveTjkLb"
      },
      "outputs": [],
      "source": []
    },
    {
      "cell_type": "code",
      "execution_count": null,
      "metadata": {
        "id": "Iqz6xc5VjkNo"
      },
      "outputs": [],
      "source": []
    },
    {
      "cell_type": "code",
      "execution_count": null,
      "metadata": {
        "id": "gfnOAreBjkPo"
      },
      "outputs": [],
      "source": []
    },
    {
      "cell_type": "code",
      "execution_count": null,
      "metadata": {
        "id": "M052UNm_OwV5"
      },
      "outputs": [],
      "source": []
    },
    {
      "cell_type": "code",
      "execution_count": null,
      "metadata": {
        "id": "-iAwNrgSOwX3"
      },
      "outputs": [],
      "source": []
    },
    {
      "cell_type": "code",
      "execution_count": null,
      "metadata": {
        "id": "isgUmuudOwaP"
      },
      "outputs": [],
      "source": []
    },
    {
      "cell_type": "code",
      "execution_count": null,
      "metadata": {
        "id": "44_in1VIjkRr"
      },
      "outputs": [],
      "source": []
    }
  ],
  "metadata": {
    "accelerator": "GPU",
    "colab": {
      "provenance": [],
      "include_colab_link": true
    },
    "gpuClass": "standard",
    "kernelspec": {
      "display_name": "Python 3",
      "name": "python3"
    },
    "language_info": {
      "name": "python"
    },
    "widgets": {
      "application/vnd.jupyter.widget-state+json": {
        "6ff28b6975314a188d1ef347ce701cd1": {
          "model_module": "@jupyter-widgets/controls",
          "model_name": "HBoxModel",
          "model_module_version": "1.5.0",
          "state": {
            "_dom_classes": [],
            "_model_module": "@jupyter-widgets/controls",
            "_model_module_version": "1.5.0",
            "_model_name": "HBoxModel",
            "_view_count": null,
            "_view_module": "@jupyter-widgets/controls",
            "_view_module_version": "1.5.0",
            "_view_name": "HBoxView",
            "box_style": "",
            "children": [
              "IPY_MODEL_3b476249a3b74f75babaf62f44b09070",
              "IPY_MODEL_e34d976d18364372b9598c25186b43cc",
              "IPY_MODEL_dc2e298d316d40baa6fdf36248e311a4"
            ],
            "layout": "IPY_MODEL_292fd727cd9e48259bfbb944a60293ec"
          }
        },
        "3b476249a3b74f75babaf62f44b09070": {
          "model_module": "@jupyter-widgets/controls",
          "model_name": "HTMLModel",
          "model_module_version": "1.5.0",
          "state": {
            "_dom_classes": [],
            "_model_module": "@jupyter-widgets/controls",
            "_model_module_version": "1.5.0",
            "_model_name": "HTMLModel",
            "_view_count": null,
            "_view_module": "@jupyter-widgets/controls",
            "_view_module_version": "1.5.0",
            "_view_name": "HTMLView",
            "description": "",
            "description_tooltip": null,
            "layout": "IPY_MODEL_41ac0844e39d4b878eb5d781d72dc347",
            "placeholder": "​",
            "style": "IPY_MODEL_dc4f68a7295346e6b5911b308c24ce48",
            "value": "100%"
          }
        },
        "e34d976d18364372b9598c25186b43cc": {
          "model_module": "@jupyter-widgets/controls",
          "model_name": "FloatProgressModel",
          "model_module_version": "1.5.0",
          "state": {
            "_dom_classes": [],
            "_model_module": "@jupyter-widgets/controls",
            "_model_module_version": "1.5.0",
            "_model_name": "FloatProgressModel",
            "_view_count": null,
            "_view_module": "@jupyter-widgets/controls",
            "_view_module_version": "1.5.0",
            "_view_name": "ProgressView",
            "bar_style": "success",
            "description": "",
            "description_tooltip": null,
            "layout": "IPY_MODEL_c1edd2105f6f4194bd900c57f9ce58b0",
            "max": 244408911,
            "min": 0,
            "orientation": "horizontal",
            "style": "IPY_MODEL_01a1e443211f47e4a59e01249bbaba11",
            "value": 244408911
          }
        },
        "dc2e298d316d40baa6fdf36248e311a4": {
          "model_module": "@jupyter-widgets/controls",
          "model_name": "HTMLModel",
          "model_module_version": "1.5.0",
          "state": {
            "_dom_classes": [],
            "_model_module": "@jupyter-widgets/controls",
            "_model_module_version": "1.5.0",
            "_model_name": "HTMLModel",
            "_view_count": null,
            "_view_module": "@jupyter-widgets/controls",
            "_view_module_version": "1.5.0",
            "_view_name": "HTMLView",
            "description": "",
            "description_tooltip": null,
            "layout": "IPY_MODEL_2b359aa552bd4507bb75a66f0fd9ff11",
            "placeholder": "​",
            "style": "IPY_MODEL_72568c13c6614643b6ec89c285f223db",
            "value": " 233M/233M [00:05&lt;00:00, 47.2MB/s]"
          }
        },
        "292fd727cd9e48259bfbb944a60293ec": {
          "model_module": "@jupyter-widgets/base",
          "model_name": "LayoutModel",
          "model_module_version": "1.2.0",
          "state": {
            "_model_module": "@jupyter-widgets/base",
            "_model_module_version": "1.2.0",
            "_model_name": "LayoutModel",
            "_view_count": null,
            "_view_module": "@jupyter-widgets/base",
            "_view_module_version": "1.2.0",
            "_view_name": "LayoutView",
            "align_content": null,
            "align_items": null,
            "align_self": null,
            "border": null,
            "bottom": null,
            "display": null,
            "flex": null,
            "flex_flow": null,
            "grid_area": null,
            "grid_auto_columns": null,
            "grid_auto_flow": null,
            "grid_auto_rows": null,
            "grid_column": null,
            "grid_gap": null,
            "grid_row": null,
            "grid_template_areas": null,
            "grid_template_columns": null,
            "grid_template_rows": null,
            "height": null,
            "justify_content": null,
            "justify_items": null,
            "left": null,
            "margin": null,
            "max_height": null,
            "max_width": null,
            "min_height": null,
            "min_width": null,
            "object_fit": null,
            "object_position": null,
            "order": null,
            "overflow": null,
            "overflow_x": null,
            "overflow_y": null,
            "padding": null,
            "right": null,
            "top": null,
            "visibility": null,
            "width": null
          }
        },
        "41ac0844e39d4b878eb5d781d72dc347": {
          "model_module": "@jupyter-widgets/base",
          "model_name": "LayoutModel",
          "model_module_version": "1.2.0",
          "state": {
            "_model_module": "@jupyter-widgets/base",
            "_model_module_version": "1.2.0",
            "_model_name": "LayoutModel",
            "_view_count": null,
            "_view_module": "@jupyter-widgets/base",
            "_view_module_version": "1.2.0",
            "_view_name": "LayoutView",
            "align_content": null,
            "align_items": null,
            "align_self": null,
            "border": null,
            "bottom": null,
            "display": null,
            "flex": null,
            "flex_flow": null,
            "grid_area": null,
            "grid_auto_columns": null,
            "grid_auto_flow": null,
            "grid_auto_rows": null,
            "grid_column": null,
            "grid_gap": null,
            "grid_row": null,
            "grid_template_areas": null,
            "grid_template_columns": null,
            "grid_template_rows": null,
            "height": null,
            "justify_content": null,
            "justify_items": null,
            "left": null,
            "margin": null,
            "max_height": null,
            "max_width": null,
            "min_height": null,
            "min_width": null,
            "object_fit": null,
            "object_position": null,
            "order": null,
            "overflow": null,
            "overflow_x": null,
            "overflow_y": null,
            "padding": null,
            "right": null,
            "top": null,
            "visibility": null,
            "width": null
          }
        },
        "dc4f68a7295346e6b5911b308c24ce48": {
          "model_module": "@jupyter-widgets/controls",
          "model_name": "DescriptionStyleModel",
          "model_module_version": "1.5.0",
          "state": {
            "_model_module": "@jupyter-widgets/controls",
            "_model_module_version": "1.5.0",
            "_model_name": "DescriptionStyleModel",
            "_view_count": null,
            "_view_module": "@jupyter-widgets/base",
            "_view_module_version": "1.2.0",
            "_view_name": "StyleView",
            "description_width": ""
          }
        },
        "c1edd2105f6f4194bd900c57f9ce58b0": {
          "model_module": "@jupyter-widgets/base",
          "model_name": "LayoutModel",
          "model_module_version": "1.2.0",
          "state": {
            "_model_module": "@jupyter-widgets/base",
            "_model_module_version": "1.2.0",
            "_model_name": "LayoutModel",
            "_view_count": null,
            "_view_module": "@jupyter-widgets/base",
            "_view_module_version": "1.2.0",
            "_view_name": "LayoutView",
            "align_content": null,
            "align_items": null,
            "align_self": null,
            "border": null,
            "bottom": null,
            "display": null,
            "flex": null,
            "flex_flow": null,
            "grid_area": null,
            "grid_auto_columns": null,
            "grid_auto_flow": null,
            "grid_auto_rows": null,
            "grid_column": null,
            "grid_gap": null,
            "grid_row": null,
            "grid_template_areas": null,
            "grid_template_columns": null,
            "grid_template_rows": null,
            "height": null,
            "justify_content": null,
            "justify_items": null,
            "left": null,
            "margin": null,
            "max_height": null,
            "max_width": null,
            "min_height": null,
            "min_width": null,
            "object_fit": null,
            "object_position": null,
            "order": null,
            "overflow": null,
            "overflow_x": null,
            "overflow_y": null,
            "padding": null,
            "right": null,
            "top": null,
            "visibility": null,
            "width": null
          }
        },
        "01a1e443211f47e4a59e01249bbaba11": {
          "model_module": "@jupyter-widgets/controls",
          "model_name": "ProgressStyleModel",
          "model_module_version": "1.5.0",
          "state": {
            "_model_module": "@jupyter-widgets/controls",
            "_model_module_version": "1.5.0",
            "_model_name": "ProgressStyleModel",
            "_view_count": null,
            "_view_module": "@jupyter-widgets/base",
            "_view_module_version": "1.2.0",
            "_view_name": "StyleView",
            "bar_color": null,
            "description_width": ""
          }
        },
        "2b359aa552bd4507bb75a66f0fd9ff11": {
          "model_module": "@jupyter-widgets/base",
          "model_name": "LayoutModel",
          "model_module_version": "1.2.0",
          "state": {
            "_model_module": "@jupyter-widgets/base",
            "_model_module_version": "1.2.0",
            "_model_name": "LayoutModel",
            "_view_count": null,
            "_view_module": "@jupyter-widgets/base",
            "_view_module_version": "1.2.0",
            "_view_name": "LayoutView",
            "align_content": null,
            "align_items": null,
            "align_self": null,
            "border": null,
            "bottom": null,
            "display": null,
            "flex": null,
            "flex_flow": null,
            "grid_area": null,
            "grid_auto_columns": null,
            "grid_auto_flow": null,
            "grid_auto_rows": null,
            "grid_column": null,
            "grid_gap": null,
            "grid_row": null,
            "grid_template_areas": null,
            "grid_template_columns": null,
            "grid_template_rows": null,
            "height": null,
            "justify_content": null,
            "justify_items": null,
            "left": null,
            "margin": null,
            "max_height": null,
            "max_width": null,
            "min_height": null,
            "min_width": null,
            "object_fit": null,
            "object_position": null,
            "order": null,
            "overflow": null,
            "overflow_x": null,
            "overflow_y": null,
            "padding": null,
            "right": null,
            "top": null,
            "visibility": null,
            "width": null
          }
        },
        "72568c13c6614643b6ec89c285f223db": {
          "model_module": "@jupyter-widgets/controls",
          "model_name": "DescriptionStyleModel",
          "model_module_version": "1.5.0",
          "state": {
            "_model_module": "@jupyter-widgets/controls",
            "_model_module_version": "1.5.0",
            "_model_name": "DescriptionStyleModel",
            "_view_count": null,
            "_view_module": "@jupyter-widgets/base",
            "_view_module_version": "1.2.0",
            "_view_name": "StyleView",
            "description_width": ""
          }
        }
      }
    }
  },
  "nbformat": 4,
  "nbformat_minor": 0
}