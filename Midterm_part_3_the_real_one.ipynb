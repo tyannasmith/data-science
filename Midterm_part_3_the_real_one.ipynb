{
  "nbformat": 4,
  "nbformat_minor": 0,
  "metadata": {
    "colab": {
      "provenance": [],
      "authorship_tag": "ABX9TyP0NBPbU9r9VRrBjpieP3p6",
      "include_colab_link": true
    },
    "kernelspec": {
      "name": "python3",
      "display_name": "Python 3"
    },
    "language_info": {
      "name": "python"
    }
  },
  "cells": [
    {
      "cell_type": "markdown",
      "metadata": {
        "id": "view-in-github",
        "colab_type": "text"
      },
      "source": [
        "<a href=\"https://colab.research.google.com/github/tyannasmith/data-science/blob/main/Midterm_part_3_the_real_one.ipynb\" target=\"_parent\"><img src=\"https://colab.research.google.com/assets/colab-badge.svg\" alt=\"Open In Colab\"/></a>"
      ]
    },
    {
      "cell_type": "code",
      "execution_count": 1,
      "metadata": {
        "id": "1_m_1XfZQ546"
      },
      "outputs": [],
      "source": [
        "import numpy as np\n",
        "import matplotlib.pyplot as plt"
      ]
    },
    {
      "cell_type": "code",
      "source": [
        "X = np.array([12,9,20,7,2])    \n",
        "Y = np.array([38,28,63,22,6])"
      ],
      "metadata": {
        "id": "nc3LWAc2RHSN"
      },
      "execution_count": 2,
      "outputs": []
    },
    {
      "cell_type": "markdown",
      "source": [
        "#These numbers are the diameter and circumference of circles"
      ],
      "metadata": {
        "id": "GP-PMSxQRj0K"
      }
    },
    {
      "cell_type": "code",
      "source": [
        "plt.plot(X,Y,'g.')"
      ],
      "metadata": {
        "colab": {
          "base_uri": "https://localhost:8080/",
          "height": 283
        },
        "id": "dQUIDaDWRHb8",
        "outputId": "d5ac8d84-8aa0-40ab-abd1-daa92061ee18"
      },
      "execution_count": 4,
      "outputs": [
        {
          "output_type": "execute_result",
          "data": {
            "text/plain": [
              "[<matplotlib.lines.Line2D at 0x7f43fe016350>]"
            ]
          },
          "metadata": {},
          "execution_count": 4
        },
        {
          "output_type": "display_data",
          "data": {
            "text/plain": [
              "<Figure size 432x288 with 1 Axes>"
            ],
            "image/png": "[encoded data removed]"
          },
          "metadata": {
            "needs_background": "light"
          }
        }
      ]
    },
    {
      "cell_type": "markdown",
      "source": [
        "#This model helps predict future measurements"
      ],
      "metadata": {
        "id": "CvQyFFaTVvqQ"
      }
    },
    {
      "cell_type": "markdown",
      "source": [
        "#This line plot is for the measurements of the circles"
      ],
      "metadata": {
        "id": "Kd89QAckRqjw"
      }
    },
    {
      "cell_type": "code",
      "source": [
        "m_guess=0\n",
        "b_guess=0"
      ],
      "metadata": {
        "id": "qPvMBzV1RHgO"
      },
      "execution_count": 5,
      "outputs": []
    },
    {
      "cell_type": "markdown",
      "source": [
        "#I have to figure out what will best match M and B to match my data points"
      ],
      "metadata": {
        "id": "6dpJ3IhwV69K"
      }
    },
    {
      "cell_type": "markdown",
      "source": [
        "y+mx+b"
      ],
      "metadata": {
        "id": "EOkozG7aTA-n"
      }
    },
    {
      "cell_type": "code",
      "source": [
        "m_guess* X+b_guess"
      ],
      "metadata": {
        "colab": {
          "base_uri": "https://localhost:8080/"
        },
        "id": "oUOySpFNRHmF",
        "outputId": "6ac956a3-0741-4ed3-ad7d-35bd21ffbb64"
      },
      "execution_count": 6,
      "outputs": [
        {
          "output_type": "execute_result",
          "data": {
            "text/plain": [
              "array([0, 0, 0, 0, 0])"
            ]
          },
          "metadata": {},
          "execution_count": 6
        }
      ]
    },
    {
      "cell_type": "code",
      "source": [
        "y_guess =m_guess * X+b_guess"
      ],
      "metadata": {
        "id": "50jzsflvSWK7"
      },
      "execution_count": 9,
      "outputs": []
    },
    {
      "cell_type": "code",
      "source": [
        "y_guess -Y"
      ],
      "metadata": {
        "colab": {
          "base_uri": "https://localhost:8080/"
        },
        "id": "gqQ7IaJQSWOL",
        "outputId": "268aa0b8-851b-457c-bd0f-0eb850f6ffff"
      },
      "execution_count": 8,
      "outputs": [
        {
          "output_type": "execute_result",
          "data": {
            "text/plain": [
              "array([-38, -28, -63, -22,  -6])"
            ]
          },
          "metadata": {},
          "execution_count": 8
        }
      ]
    },
    {
      "cell_type": "markdown",
      "source": [
        "#Subtracted known data and my guess"
      ],
      "metadata": {
        "id": "WKTH2XjkWEEb"
      }
    },
    {
      "cell_type": "code",
      "source": [
        "(y_guess -Y)**2"
      ],
      "metadata": {
        "colab": {
          "base_uri": "https://localhost:8080/"
        },
        "id": "W2Q91CFkSWQ4",
        "outputId": "d420f2cb-0f31-42e0-912d-1f80e3e8c224"
      },
      "execution_count": 10,
      "outputs": [
        {
          "output_type": "execute_result",
          "data": {
            "text/plain": [
              "array([1444,  784, 3969,  484,   36])"
            ]
          },
          "metadata": {},
          "execution_count": 10
        }
      ]
    },
    {
      "cell_type": "code",
      "source": [],
      "metadata": {
        "id": "7w6EOhslWLnQ"
      },
      "execution_count": null,
      "outputs": []
    },
    {
      "cell_type": "markdown",
      "source": [
        "#this mathmaticlly gets rid of the minus signs and makes them positive. We subtract it and then square it to see the difference"
      ],
      "metadata": {
        "id": "sAO0-w6CUVQL"
      }
    },
    {
      "cell_type": "code",
      "source": [
        "np.sum((y_guess-Y)**2)"
      ],
      "metadata": {
        "colab": {
          "base_uri": "https://localhost:8080/"
        },
        "id": "K-z0s8x5TtSb",
        "outputId": "37470417-98e7-4322-e2f9-78993b55b3b8"
      },
      "execution_count": 11,
      "outputs": [
        {
          "output_type": "execute_result",
          "data": {
            "text/plain": [
              "6717"
            ]
          },
          "metadata": {},
          "execution_count": 11
        }
      ]
    },
    {
      "cell_type": "markdown",
      "source": [
        "# I want that loss to be smaller so I have to keep gueesing or make a four loop"
      ],
      "metadata": {
        "id": "t6UISNB7WO3w"
      }
    },
    {
      "cell_type": "code",
      "source": [
        "loss=np.sum((y_guess-Y)**2)"
      ],
      "metadata": {
        "id": "gZ4XetHATtVJ"
      },
      "execution_count": 25,
      "outputs": []
    },
    {
      "cell_type": "code",
      "source": [
        "best_loss_so_far=1000000000000\n",
        "m_best=0\n",
        "b_best=0\n",
        "\n",
        "for m_guess in np.linspace(-100,100,100):\n",
        "  for b_guess in np.linspace(-100,100,100):\n",
        "\n",
        "    y_guess = m_guess * X+b_guess\n",
        "\n",
        "    loss= np.sum((y_guess - Y)**2)\n",
        "\n",
        "    if loss < best_loss_so_far:\n",
        "      m_best= m_guess\n",
        "      b_best=b_guess\n",
        "      best_loss_so_far=loss\n",
        "print(\"Found better fit:\")\n",
        "print(m_best,b_best,loss)"
      ],
      "metadata": {
        "colab": {
          "base_uri": "https://localhost:8080/"
        },
        "id": "3MvRpn2oTtYg",
        "outputId": "dd27926d-0016-428e-a542-9eb181108dcc"
      },
      "execution_count": 27,
      "outputs": [
        {
          "output_type": "stream",
          "name": "stdout",
          "text": [
            "Found better fit:\n",
            "3.030303030303031 1.0101010101010104 7378517.0\n"
          ]
        }
      ]
    },
    {
      "cell_type": "markdown",
      "source": [
        "#This number is the slope of the line of best fit and the change of Y. it relstes the diamter of the circle to the circumference of the circle and it is PIE"
      ],
      "metadata": {
        "id": "Qj2HmZqxcydi"
      }
    },
    {
      "cell_type": "markdown",
      "source": [
        "#Find the smallest number"
      ],
      "metadata": {
        "id": "m5MgiQm8Yzgk"
      }
    },
    {
      "cell_type": "markdown",
      "source": [
        "#This is called linear regression"
      ],
      "metadata": {
        "id": "E-z8XFu2XgrG"
      }
    }
  ]
}